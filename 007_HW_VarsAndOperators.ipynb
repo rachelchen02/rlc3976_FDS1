{
 "cells": [
  {
   "cell_type": "markdown",
   "id": "fa22330b",
   "metadata": {},
   "source": [
    "1. Variables and Assignment"
   ]
  },
  {
   "cell_type": "code",
   "execution_count": 1,
   "id": "0993d93b",
   "metadata": {},
   "outputs": [
    {
     "name": "stdout",
     "output_type": "stream",
     "text": [
      "Rachel\n"
     ]
    }
   ],
   "source": [
    "name = 'Rachel'\n",
    "print(name)"
   ]
  },
  {
   "cell_type": "code",
   "execution_count": 3,
   "id": "aeb8df49",
   "metadata": {},
   "outputs": [
    {
     "name": "stdout",
     "output_type": "stream",
     "text": [
      "21\n"
     ]
    }
   ],
   "source": [
    "age = 21\n",
    "print(age)"
   ]
  },
  {
   "cell_type": "code",
   "execution_count": 4,
   "id": "725501e8",
   "metadata": {},
   "outputs": [
    {
     "name": "stdout",
     "output_type": "stream",
     "text": [
      "21 Rachel\n"
     ]
    }
   ],
   "source": [
    "name, age = age, name\n",
    "print(name, age)"
   ]
  },
  {
   "cell_type": "markdown",
   "id": "bbe9f1b7",
   "metadata": {},
   "source": [
    "2. Data Types"
   ]
  },
  {
   "cell_type": "code",
   "execution_count": 6,
   "id": "b2bcb67b",
   "metadata": {},
   "outputs": [
    {
     "name": "stdout",
     "output_type": "stream",
     "text": [
      "<class 'int'> <class 'float'> <class 'str'> <class 'list'> <class 'tuple'> <class 'set'> <class 'bool'>\n"
     ]
    }
   ],
   "source": [
    "print(type(5),\n",
    "      type(5.0), \n",
    "      type(\"5\"), \n",
    "      type([5]), \n",
    "      type((5, )),\n",
    "      type({5}), \n",
    "      type(True))"
   ]
  },
  {
   "cell_type": "code",
   "execution_count": 9,
   "id": "f8b7513c",
   "metadata": {},
   "outputs": [
    {
     "name": "stdout",
     "output_type": "stream",
     "text": [
      "True\n"
     ]
    }
   ],
   "source": [
    "is_student = True\n",
    "print(is_student)"
   ]
  },
  {
   "cell_type": "markdown",
   "id": "6037f6cb",
   "metadata": {},
   "source": [
    "3. Basic Operators"
   ]
  },
  {
   "cell_type": "code",
   "execution_count": 8,
   "id": "cc54c2b4",
   "metadata": {},
   "outputs": [
    {
     "name": "stdout",
     "output_type": "stream",
     "text": [
      "38 -16 56 25.0\n"
     ]
    }
   ],
   "source": [
    "print(15+23,\n",
    "     34-50,\n",
    "     8*7,\n",
    "     100/4)"
   ]
  },
  {
   "cell_type": "code",
   "execution_count": 10,
   "id": "e516b98f",
   "metadata": {},
   "outputs": [
    {
     "name": "stdout",
     "output_type": "stream",
     "text": [
      "0 100000\n"
     ]
    }
   ],
   "source": [
    "a = 10\n",
    "b = 5\n",
    "print(a%b, a**b)"
   ]
  },
  {
   "cell_type": "code",
   "execution_count": 11,
   "id": "5906e53f",
   "metadata": {},
   "outputs": [
    {
     "name": "stdout",
     "output_type": "stream",
     "text": [
      "123 456 78\n"
     ]
    }
   ],
   "source": [
    "print(int(\"123\"), str(456), int(78.9))"
   ]
  },
  {
   "cell_type": "code",
   "execution_count": 14,
   "id": "60038d57",
   "metadata": {},
   "outputs": [
    {
     "name": "stdout",
     "output_type": "stream",
     "text": [
      "PythonRocks\n"
     ]
    }
   ],
   "source": [
    "print('Python'+'Rocks')"
   ]
  },
  {
   "cell_type": "code",
   "execution_count": 15,
   "id": "8be272fb",
   "metadata": {},
   "outputs": [
    {
     "name": "stdout",
     "output_type": "stream",
     "text": [
      "HelloHelloHello\n"
     ]
    }
   ],
   "source": [
    "print('Hello'*3)"
   ]
  },
  {
   "cell_type": "code",
   "execution_count": 18,
   "id": "ae6dc637",
   "metadata": {},
   "outputs": [
    {
     "name": "stdout",
     "output_type": "stream",
     "text": [
      "10 15 5\n"
     ]
    }
   ],
   "source": [
    "x = 5\n",
    "y = 10\n",
    "z = 15\n",
    "y = y+x\n",
    "z = z-(x+x)\n",
    "x = z+z\n",
    "print(x, y, z)"
   ]
  },
  {
   "cell_type": "code",
   "execution_count": null,
   "id": "15b3f52e",
   "metadata": {},
   "outputs": [],
   "source": []
  }
 ],
 "metadata": {
  "kernelspec": {
   "display_name": "Python 3 (ipykernel)",
   "language": "python",
   "name": "python3"
  },
  "language_info": {
   "codemirror_mode": {
    "name": "ipython",
    "version": 3
   },
   "file_extension": ".py",
   "mimetype": "text/x-python",
   "name": "python",
   "nbconvert_exporter": "python",
   "pygments_lexer": "ipython3",
   "version": "3.11.4"
  }
 },
 "nbformat": 4,
 "nbformat_minor": 5
}
