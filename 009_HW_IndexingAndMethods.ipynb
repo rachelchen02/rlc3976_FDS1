{
 "cells": [
  {
   "cell_type": "markdown",
   "id": "9d36a0c4",
   "metadata": {},
   "source": [
    "Part A: Slicing"
   ]
  },
  {
   "cell_type": "markdown",
   "id": "409e0cc7",
   "metadata": {},
   "source": [
    "1. Strings"
   ]
  },
  {
   "cell_type": "code",
   "execution_count": 16,
   "id": "3da56b8b",
   "metadata": {},
   "outputs": [
    {
     "data": {
      "text/plain": [
       "'Program'"
      ]
     },
     "execution_count": 16,
     "metadata": {},
     "output_type": "execute_result"
    }
   ],
   "source": [
    "s = \"ProgrammingIsFun\"\n",
    "#Substring \"Program\"\n",
    "s[:7]"
   ]
  },
  {
   "cell_type": "code",
   "execution_count": 13,
   "id": "4fdd23af",
   "metadata": {},
   "outputs": [
    {
     "data": {
      "text/plain": [
       "'Fun'"
      ]
     },
     "execution_count": 13,
     "metadata": {},
     "output_type": "execute_result"
    }
   ],
   "source": [
    "#Substring \"Fun\"\n",
    "s[-3:]"
   ]
  },
  {
   "cell_type": "code",
   "execution_count": 15,
   "id": "38e58d6a",
   "metadata": {},
   "outputs": [
    {
     "data": {
      "text/plain": [
       "'Pgmnsn'"
      ]
     },
     "execution_count": 15,
     "metadata": {},
     "output_type": "execute_result"
    }
   ],
   "source": [
    "#Every 3rd character\n",
    "s[::3]"
   ]
  },
  {
   "cell_type": "markdown",
   "id": "49154dde",
   "metadata": {},
   "source": [
    "2. Lists"
   ]
  },
  {
   "cell_type": "code",
   "execution_count": 51,
   "id": "9778cab0",
   "metadata": {},
   "outputs": [
    {
     "data": {
      "text/plain": [
       "[10, 20, 30]"
      ]
     },
     "execution_count": 51,
     "metadata": {},
     "output_type": "execute_result"
    }
   ],
   "source": [
    "lst = [10, 20, 30, 40, 50, 60, 70, 80]\n",
    "#First 3 elements\n",
    "lst[:3]"
   ]
  },
  {
   "cell_type": "code",
   "execution_count": 23,
   "id": "95270e17",
   "metadata": {},
   "outputs": [
    {
     "data": {
      "text/plain": [
       "[70, 80]"
      ]
     },
     "execution_count": 23,
     "metadata": {},
     "output_type": "execute_result"
    }
   ],
   "source": [
    "#Last 2 elements\n",
    "lst[-2:]"
   ]
  },
  {
   "cell_type": "code",
   "execution_count": 26,
   "id": "adddea51",
   "metadata": {},
   "outputs": [
    {
     "data": {
      "text/plain": [
       "[40, 50, 60, 70]"
      ]
     },
     "execution_count": 26,
     "metadata": {},
     "output_type": "execute_result"
    }
   ],
   "source": [
    "#Elements from index 3 to 6 (inclusive)\n",
    "lst[3:7]"
   ]
  },
  {
   "cell_type": "code",
   "execution_count": 28,
   "id": "36fb684e",
   "metadata": {},
   "outputs": [
    {
     "data": {
      "text/plain": [
       "[10, 30, 50, 70]"
      ]
     },
     "execution_count": 28,
     "metadata": {},
     "output_type": "execute_result"
    }
   ],
   "source": [
    "#Every 2nd element\n",
    "lst[::2]"
   ]
  },
  {
   "cell_type": "code",
   "execution_count": 31,
   "id": "6c515f05",
   "metadata": {},
   "outputs": [
    {
     "data": {
      "text/plain": [
       "[80, 60, 40, 20]"
      ]
     },
     "execution_count": 31,
     "metadata": {},
     "output_type": "execute_result"
    }
   ],
   "source": [
    "#Every 2nd element from end of list\n",
    "lst[::-2]"
   ]
  },
  {
   "cell_type": "markdown",
   "id": "b24b02e2",
   "metadata": {},
   "source": [
    "3. Tuples"
   ]
  },
  {
   "cell_type": "code",
   "execution_count": 90,
   "id": "5646d08d",
   "metadata": {},
   "outputs": [
    {
     "data": {
      "text/plain": [
       "10"
      ]
     },
     "execution_count": 90,
     "metadata": {},
     "output_type": "execute_result"
    }
   ],
   "source": [
    "tup = (5, 10, 15, 20, 25, 30, 35, 40)\n",
    "#Second element\n",
    "tup[1]"
   ]
  },
  {
   "cell_type": "code",
   "execution_count": 36,
   "id": "8ef757bf",
   "metadata": {},
   "outputs": [
    {
     "data": {
      "text/plain": [
       "(30, 35, 40)"
      ]
     },
     "execution_count": 36,
     "metadata": {},
     "output_type": "execute_result"
    }
   ],
   "source": [
    "#Last 3 elements\n",
    "tup[-3:]"
   ]
  },
  {
   "cell_type": "code",
   "execution_count": 37,
   "id": "9e082364",
   "metadata": {},
   "outputs": [
    {
     "data": {
      "text/plain": [
       "(15, 20, 25)"
      ]
     },
     "execution_count": 37,
     "metadata": {},
     "output_type": "execute_result"
    }
   ],
   "source": [
    "#Elements from index 2 to 5 (exclusive)\n",
    "tup[2:5]"
   ]
  },
  {
   "cell_type": "markdown",
   "id": "7aa22e02",
   "metadata": {},
   "source": [
    "Part B: Methods of Data Structures"
   ]
  },
  {
   "cell_type": "markdown",
   "id": "e4723b09",
   "metadata": {},
   "source": [
    "1. Strings"
   ]
  },
  {
   "cell_type": "code",
   "execution_count": 38,
   "id": "d59f7eff",
   "metadata": {},
   "outputs": [
    {
     "data": {
      "text/plain": [
       "7"
      ]
     },
     "execution_count": 38,
     "metadata": {},
     "output_type": "execute_result"
    }
   ],
   "source": [
    "#Index of first occurrence of 'ming' in s\n",
    "s.index(\"ming\")"
   ]
  },
  {
   "cell_type": "code",
   "execution_count": 42,
   "id": "48a27459",
   "metadata": {},
   "outputs": [
    {
     "name": "stdout",
     "output_type": "stream",
     "text": [
      "programmingisfun\n"
     ]
    }
   ],
   "source": [
    "#Convert s to lowercase\n",
    "print(s.lower())"
   ]
  },
  {
   "cell_type": "code",
   "execution_count": 45,
   "id": "6bfabff4",
   "metadata": {},
   "outputs": [
    {
     "name": "stdout",
     "output_type": "stream",
     "text": [
      "ProgrammingIsAmazing\n"
     ]
    }
   ],
   "source": [
    "#Replace \"Fun\" in s with \"Amazing\"\n",
    "print(s.replace(\"Fun\", \"Amazing\"))"
   ]
  },
  {
   "cell_type": "markdown",
   "id": "af14d038",
   "metadata": {},
   "source": [
    "2. Lists"
   ]
  },
  {
   "cell_type": "code",
   "execution_count": 53,
   "id": "f7f31206",
   "metadata": {},
   "outputs": [
    {
     "name": "stdout",
     "output_type": "stream",
     "text": [
      "[10, 20, 30, 40, 50, 60, 70, 80, 90, 100, 90, 100]\n"
     ]
    }
   ],
   "source": [
    "#Add 90 and 100 to lst\n",
    "extended_list = [90, 100]\n",
    "lst.extend(extended_list)\n",
    "print(lst)"
   ]
  },
  {
   "cell_type": "code",
   "execution_count": 54,
   "id": "f88459f2",
   "metadata": {},
   "outputs": [
    {
     "name": "stdout",
     "output_type": "stream",
     "text": [
      "[10, 30, 40, 50, 60, 70, 80, 90, 100, 90, 100]\n"
     ]
    }
   ],
   "source": [
    "#Remove second element from lst\n",
    "lst.pop(1)\n",
    "print(lst)"
   ]
  },
  {
   "cell_type": "code",
   "execution_count": 58,
   "id": "1e586337",
   "metadata": {},
   "outputs": [
    {
     "name": "stdout",
     "output_type": "stream",
     "text": [
      "[100, 90, 100, 90, 80, 70, 60, 50, 40, 30, 10]\n"
     ]
    }
   ],
   "source": [
    "#Reverse order of elements of lst\n",
    "lst.reverse()\n",
    "print(lst)"
   ]
  },
  {
   "cell_type": "code",
   "execution_count": 60,
   "id": "d63fbd6c",
   "metadata": {},
   "outputs": [
    {
     "data": {
      "text/plain": [
       "7"
      ]
     },
     "execution_count": 60,
     "metadata": {},
     "output_type": "execute_result"
    }
   ],
   "source": [
    "#Find and print the index of 50 in lst\n",
    "lst.index(50)"
   ]
  },
  {
   "cell_type": "markdown",
   "id": "9d878864",
   "metadata": {},
   "source": [
    "3. Tuples"
   ]
  },
  {
   "cell_type": "code",
   "execution_count": 89,
   "id": "04efb0d2",
   "metadata": {},
   "outputs": [
    {
     "data": {
      "text/plain": [
       "1"
      ]
     },
     "execution_count": 89,
     "metadata": {},
     "output_type": "execute_result"
    }
   ],
   "source": [
    "#Count and print # of occurrences of 20 in tup\n",
    "tup.count(20)"
   ]
  },
  {
   "cell_type": "code",
   "execution_count": 91,
   "id": "e16d3c47",
   "metadata": {},
   "outputs": [
    {
     "name": "stdout",
     "output_type": "stream",
     "text": [
      "(5, 10, 15, 20, 25, 30, 35, 40, 45)\n"
     ]
    }
   ],
   "source": [
    "#Convert tup into list, add 45 to end, convert back to tuple\n",
    "tup = list(tup)\n",
    "tup.append(45)\n",
    "tup = tuple(tup)\n",
    "print(tup)"
   ]
  },
  {
   "cell_type": "markdown",
   "id": "47504076",
   "metadata": {},
   "source": [
    "4. Dictionaries"
   ]
  },
  {
   "cell_type": "code",
   "execution_count": 75,
   "id": "53f0cbbe",
   "metadata": {},
   "outputs": [
    {
     "name": "stdout",
     "output_type": "stream",
     "text": [
      "{'Scooby': 4, 'Shaggy': 19, 'Velma': 18, 'Daphne': 20, 'Phred': 21}\n"
     ]
    }
   ],
   "source": [
    "S_Doo_ = {\"Scooby\": 4, \"Shaggy\": 19, \"Velma\": 18, \"Daphne\": 20}\n",
    "#Add new key value pair\n",
    "S_Doo_[\"Phred\"] = 21\n",
    "print(S_Doo_)"
   ]
  },
  {
   "cell_type": "code",
   "execution_count": 76,
   "id": "1d8dc3c9",
   "metadata": {},
   "outputs": [
    {
     "name": "stdout",
     "output_type": "stream",
     "text": [
      "18\n"
     ]
    }
   ],
   "source": [
    "#Age of Velma\n",
    "print(S_Doo_[\"Velma\"])"
   ]
  },
  {
   "cell_type": "code",
   "execution_count": 77,
   "id": "0a0b4343",
   "metadata": {},
   "outputs": [
    {
     "name": "stdout",
     "output_type": "stream",
     "text": [
      "{'Shaggy': 19, 'Velma': 18, 'Daphne': 20, 'Phred': 21}\n"
     ]
    }
   ],
   "source": [
    "#Remove Scooby\n",
    "del S_Doo_[\"Scooby\"]\n",
    "print(S_Doo_)"
   ]
  },
  {
   "cell_type": "code",
   "execution_count": 78,
   "id": "2e8f1f50",
   "metadata": {},
   "outputs": [
    {
     "name": "stdout",
     "output_type": "stream",
     "text": [
      "dict_keys(['Shaggy', 'Velma', 'Daphne', 'Phred'])\n"
     ]
    }
   ],
   "source": [
    "print(S_Doo_.keys())"
   ]
  },
  {
   "cell_type": "code",
   "execution_count": 80,
   "id": "56f34119",
   "metadata": {},
   "outputs": [
    {
     "name": "stdout",
     "output_type": "stream",
     "text": [
      "dict_values([19, 18, 20, 21])\n"
     ]
    }
   ],
   "source": [
    "print(S_Doo_.values())"
   ]
  },
  {
   "cell_type": "code",
   "execution_count": 88,
   "id": "999f1208",
   "metadata": {},
   "outputs": [
    {
     "name": "stdout",
     "output_type": "stream",
     "text": [
      "['Shaggy', 'Velma', 'Daphne', 'Phred']\n"
     ]
    }
   ],
   "source": [
    "#Bonus\n",
    "S_Doo_keys = S_Doo_.keys()\n",
    "S_Doo_keys = list(S_Doo_keys)\n",
    "print(S_Doo_keys) "
   ]
  }
 ],
 "metadata": {
  "kernelspec": {
   "display_name": "Python 3 (ipykernel)",
   "language": "python",
   "name": "python3"
  },
  "language_info": {
   "codemirror_mode": {
    "name": "ipython",
    "version": 3
   },
   "file_extension": ".py",
   "mimetype": "text/x-python",
   "name": "python",
   "nbconvert_exporter": "python",
   "pygments_lexer": "ipython3",
   "version": "3.11.4"
  }
 },
 "nbformat": 4,
 "nbformat_minor": 5
}
