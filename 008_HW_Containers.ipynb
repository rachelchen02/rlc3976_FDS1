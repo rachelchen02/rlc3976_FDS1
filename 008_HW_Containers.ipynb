{
 "cells": [
  {
   "cell_type": "markdown",
   "id": "572f3816",
   "metadata": {},
   "source": [
    "1. Indexing Strings"
   ]
  },
  {
   "cell_type": "code",
   "execution_count": 4,
   "id": "67bdfc00",
   "metadata": {},
   "outputs": [
    {
     "data": {
      "text/plain": [
       "'P'"
      ]
     },
     "execution_count": 4,
     "metadata": {},
     "output_type": "execute_result"
    }
   ],
   "source": [
    "s = \"PYTHON\"\n",
    "#a) first character\n",
    "s[0]"
   ]
  },
  {
   "cell_type": "code",
   "execution_count": 5,
   "id": "b36659d7",
   "metadata": {},
   "outputs": [
    {
     "data": {
      "text/plain": [
       "'N'"
      ]
     },
     "execution_count": 5,
     "metadata": {},
     "output_type": "execute_result"
    }
   ],
   "source": [
    "#b) last character\n",
    "s[5] "
   ]
  },
  {
   "cell_type": "code",
   "execution_count": 8,
   "id": "21c2387d",
   "metadata": {},
   "outputs": [
    {
     "data": {
      "text/plain": [
       "'H'"
      ]
     },
     "execution_count": 8,
     "metadata": {},
     "output_type": "execute_result"
    }
   ],
   "source": [
    "#c) the string 'H'\n",
    "s[3] "
   ]
  },
  {
   "cell_type": "code",
   "execution_count": 9,
   "id": "9836ad1f",
   "metadata": {
    "scrolled": true
   },
   "outputs": [
    {
     "data": {
      "text/plain": [
       "str"
      ]
     },
     "execution_count": 9,
     "metadata": {},
     "output_type": "execute_result"
    }
   ],
   "source": [
    "#d) the type of 'H'\n",
    "type(s[3]) "
   ]
  },
  {
   "cell_type": "markdown",
   "id": "0a07062a",
   "metadata": {},
   "source": [
    "2. Indexing Tuples"
   ]
  },
  {
   "cell_type": "code",
   "execution_count": 10,
   "id": "fd9cacde",
   "metadata": {},
   "outputs": [
    {
     "data": {
      "text/plain": [
       "10"
      ]
     },
     "execution_count": 10,
     "metadata": {},
     "output_type": "execute_result"
    }
   ],
   "source": [
    "t = (10, 20, 30, 40, 50, 60)\n",
    "#a) the first element\n",
    "t[0] "
   ]
  },
  {
   "cell_type": "code",
   "execution_count": 11,
   "id": "318a6bab",
   "metadata": {},
   "outputs": [
    {
     "data": {
      "text/plain": [
       "30"
      ]
     },
     "execution_count": 11,
     "metadata": {},
     "output_type": "execute_result"
    }
   ],
   "source": [
    "#b) the third element\n",
    "t[2] "
   ]
  },
  {
   "cell_type": "code",
   "execution_count": 12,
   "id": "36560dcf",
   "metadata": {},
   "outputs": [
    {
     "ename": "TypeError",
     "evalue": "'tuple' object does not support item assignment",
     "output_type": "error",
     "traceback": [
      "\u001b[0;31m---------------------------------------------------------------------------\u001b[0m",
      "\u001b[0;31mTypeError\u001b[0m                                 Traceback (most recent call last)",
      "Cell \u001b[0;32mIn[12], line 1\u001b[0m\n\u001b[0;32m----> 1\u001b[0m t[\u001b[38;5;241m2\u001b[39m] \u001b[38;5;241m=\u001b[39m \u001b[38;5;241m30.4\u001b[39m\n",
      "\u001b[0;31mTypeError\u001b[0m: 'tuple' object does not support item assignment"
     ]
    }
   ],
   "source": [
    "#trying to set the 3rd element\n",
    "t[2] = 30.4 "
   ]
  },
  {
   "cell_type": "markdown",
   "id": "f587982d",
   "metadata": {},
   "source": [
    "3. Indexing Lists and Lists of Lists"
   ]
  },
  {
   "cell_type": "code",
   "execution_count": 13,
   "id": "1ffc3d89",
   "metadata": {},
   "outputs": [
    {
     "data": {
      "text/plain": [
       "5"
      ]
     },
     "execution_count": 13,
     "metadata": {},
     "output_type": "execute_result"
    }
   ],
   "source": [
    "lst = [5, 15, 25, [35, 45, [55, 65, 75], 85], 95]\n",
    "#a) the first element\n",
    "lst[0] "
   ]
  },
  {
   "cell_type": "code",
   "execution_count": 14,
   "id": "9baca256",
   "metadata": {},
   "outputs": [
    {
     "data": {
      "text/plain": [
       "95"
      ]
     },
     "execution_count": 14,
     "metadata": {},
     "output_type": "execute_result"
    }
   ],
   "source": [
    "#b) the last element\n",
    "lst[4] "
   ]
  },
  {
   "cell_type": "code",
   "execution_count": 16,
   "id": "2060e354",
   "metadata": {},
   "outputs": [
    {
     "data": {
      "text/plain": [
       "[55, 65, 75]"
      ]
     },
     "execution_count": 16,
     "metadata": {},
     "output_type": "execute_result"
    }
   ],
   "source": [
    "#c) the sublist\n",
    "lst[3][2] "
   ]
  },
  {
   "cell_type": "code",
   "execution_count": 17,
   "id": "9747448c",
   "metadata": {},
   "outputs": [
    {
     "data": {
      "text/plain": [
       "65"
      ]
     },
     "execution_count": 17,
     "metadata": {},
     "output_type": "execute_result"
    }
   ],
   "source": [
    "#d) the number 65\n",
    "lst[3][2][1] "
   ]
  },
  {
   "cell_type": "markdown",
   "id": "ab47ff67",
   "metadata": {},
   "source": [
    "4. List of Lists as Arrays"
   ]
  },
  {
   "cell_type": "code",
   "execution_count": 20,
   "id": "18b8ae47",
   "metadata": {},
   "outputs": [
    {
     "data": {
      "text/plain": [
       "[4, 5, 6]"
      ]
     },
     "execution_count": 20,
     "metadata": {},
     "output_type": "execute_result"
    }
   ],
   "source": [
    "matrix = [\n",
    "    [1, 2, 3],\n",
    "    [4, 5, 6],\n",
    "    [7, 8, 9]\n",
    "]\n",
    "#a) the second row\n",
    "matrix[1] "
   ]
  },
  {
   "cell_type": "code",
   "execution_count": 21,
   "id": "44185029",
   "metadata": {},
   "outputs": [
    {
     "data": {
      "text/plain": [
       "[7, 8, 9]"
      ]
     },
     "execution_count": 21,
     "metadata": {},
     "output_type": "execute_result"
    }
   ],
   "source": [
    "#b) the third row\n",
    "matrix[2] "
   ]
  },
  {
   "cell_type": "code",
   "execution_count": 24,
   "id": "c072b951",
   "metadata": {},
   "outputs": [
    {
     "name": "stdout",
     "output_type": "stream",
     "text": [
      "[[1, 2, 3], [4, 0, 6], [7, 8, 9]]\n"
     ]
    }
   ],
   "source": [
    "#c) changing center element to 0\n",
    "matrix[1][1] = 0 \n",
    "print(matrix)"
   ]
  },
  {
   "cell_type": "markdown",
   "id": "03626e3f",
   "metadata": {},
   "source": [
    "5. Using Sets"
   ]
  },
  {
   "cell_type": "code",
   "execution_count": 27,
   "id": "2dc9cc30",
   "metadata": {},
   "outputs": [
    {
     "name": "stdout",
     "output_type": "stream",
     "text": [
      "{1, 2, 3, 4, 5} {4, 5, 6, 7, 8}\n"
     ]
    }
   ],
   "source": [
    "A = [1, 2, 2, 3, 4, 4, 5] \n",
    "B = [4, 5, 5, 6, 7, 7,  8]\n",
    "#a) changing A and B to sets\n",
    "set_A = set(A)\n",
    "set_B = set(B)"
   ]
  },
  {
   "cell_type": "code",
   "execution_count": 28,
   "id": "492c73f7",
   "metadata": {},
   "outputs": [
    {
     "data": {
      "text/plain": [
       "{1, 2, 3, 4, 5, 6, 7, 8}"
      ]
     },
     "execution_count": 28,
     "metadata": {},
     "output_type": "execute_result"
    }
   ],
   "source": [
    "#b) union of both sets\n",
    "set_A | set_B"
   ]
  },
  {
   "cell_type": "code",
   "execution_count": 29,
   "id": "32720315",
   "metadata": {},
   "outputs": [
    {
     "data": {
      "text/plain": [
       "{4, 5}"
      ]
     },
     "execution_count": 29,
     "metadata": {},
     "output_type": "execute_result"
    }
   ],
   "source": [
    "#c) intersection of both sets\n",
    "set_A & set_B"
   ]
  },
  {
   "cell_type": "code",
   "execution_count": 30,
   "id": "a6f61c10",
   "metadata": {},
   "outputs": [
    {
     "data": {
      "text/plain": [
       "{1, 2, 3}"
      ]
     },
     "execution_count": 30,
     "metadata": {},
     "output_type": "execute_result"
    }
   ],
   "source": [
    "#d) elements in A but not in B\n",
    "set_A - set_B"
   ]
  },
  {
   "cell_type": "code",
   "execution_count": 31,
   "id": "9c7fdfa4",
   "metadata": {},
   "outputs": [
    {
     "data": {
      "text/plain": [
       "{1, 2, 3, 6, 7, 8}"
      ]
     },
     "execution_count": 31,
     "metadata": {},
     "output_type": "execute_result"
    }
   ],
   "source": [
    "#e) elements in A or B but not both\n",
    "set_A ^ set_B"
   ]
  },
  {
   "cell_type": "markdown",
   "id": "2690b7a9",
   "metadata": {},
   "source": [
    "6. Working with Dictionaries"
   ]
  },
  {
   "cell_type": "code",
   "execution_count": 41,
   "id": "c9d19919",
   "metadata": {},
   "outputs": [
    {
     "data": {
      "text/plain": [
       "50"
      ]
     },
     "execution_count": 41,
     "metadata": {},
     "output_type": "execute_result"
    }
   ],
   "source": [
    "stock = {\n",
    "    \"apple\": 50,\n",
    "    \"banana\": 25,\n",
    "    \"orange\": 30,\n",
    "    \"grape\": 45\n",
    "}\n",
    "#a) stock of apple\n",
    "stock['apple']"
   ]
  },
  {
   "cell_type": "code",
   "execution_count": 42,
   "id": "fe13c138",
   "metadata": {},
   "outputs": [],
   "source": [
    "#b) adding stock of pear\n",
    "stock['pear'] = 40"
   ]
  },
  {
   "cell_type": "code",
   "execution_count": 43,
   "id": "950b1f0f",
   "metadata": {},
   "outputs": [],
   "source": [
    "#c) updating stock of banana\n",
    "stock['banana'] = 30"
   ]
  },
  {
   "cell_type": "code",
   "execution_count": 44,
   "id": "8925f8b9",
   "metadata": {},
   "outputs": [],
   "source": [
    "#d) removing orange from stock\n",
    "del stock['orange']"
   ]
  }
 ],
 "metadata": {
  "kernelspec": {
   "display_name": "Python 3 (ipykernel)",
   "language": "python",
   "name": "python3"
  },
  "language_info": {
   "codemirror_mode": {
    "name": "ipython",
    "version": 3
   },
   "file_extension": ".py",
   "mimetype": "text/x-python",
   "name": "python",
   "nbconvert_exporter": "python",
   "pygments_lexer": "ipython3",
   "version": "3.11.4"
  }
 },
 "nbformat": 4,
 "nbformat_minor": 5
}
