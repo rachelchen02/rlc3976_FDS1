{
 "cells": [
  {
   "cell_type": "markdown",
   "id": "b71af9f1",
   "metadata": {},
   "source": [
    "# This is a notebook for homework used to practice the class workflow\n",
    "\n",
    "You are asked to add your information below:\n",
    "\n",
    "Name: Rachel\n",
    "\n",
    "Surname: Chen\n",
    "\n",
    "EID: rlc3976"
   ]
  },
  {
   "cell_type": "markdown",
   "id": "a758306e",
   "metadata": {},
   "source": [
    "Create a table with 5 rows and 3 columns using Markdown.\n",
    "\n",
    "Column 1 should code for artist name\n",
    "Column 2 should code for a song title\n",
    "Column 3 should reason you like the song.\n",
    "\n",
    "Please fill out the table with your top 5 artists and their respective top songs and an note explaining why/what you like of the song and artist.\n",
    "\n",
    "###### Hint: Avoid say \"because they are awesome!\" We really are interested in learing what you guys like.\n"
   ]
  },
  {
   "cell_type": "markdown",
   "id": "846ee1fa",
   "metadata": {},
   "source": [
    "| Favorite artists and songs |  |  |\n",
    "| --- | --- | --- |\n",
    "| Phoebe Bridgers | Garden Song | Her lyricism is really powerful, and her songs resonate with me when I'm sad.|\n",
    "| Lorde | Hard Feelings / Loveless | She captures the teenage experience, melodrama and all, perfectly. |\n",
    "| Maude Latour | Furniture | Her songs are very upbeat and fun to dance to. |\n",
    "| The Strokes | The Adults Are Talking | Their songs feel deeply nostalgic, and I love the instrumentals. |\n",
    "| Clairo | Bags | Not only does she have a beautifully soft voice, but her lyrics are also relatable to young queer women. |"
   ]
  },
  {
   "cell_type": "code",
   "execution_count": null,
   "id": "d99ca970",
   "metadata": {},
   "outputs": [],
   "source": []
  }
 ],
 "metadata": {
  "kernelspec": {
   "display_name": "Python 3 (ipykernel)",
   "language": "python",
   "name": "python3"
  },
  "language_info": {
   "codemirror_mode": {
    "name": "ipython",
    "version": 3
   },
   "file_extension": ".py",
   "mimetype": "text/x-python",
   "name": "python",
   "nbconvert_exporter": "python",
   "pygments_lexer": "ipython3",
   "version": "3.11.4"
  }
 },
 "nbformat": 4,
 "nbformat_minor": 5
}
