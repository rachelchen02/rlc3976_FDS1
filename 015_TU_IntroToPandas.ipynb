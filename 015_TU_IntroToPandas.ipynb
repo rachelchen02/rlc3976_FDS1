{
 "cells": [
  {
   "cell_type": "markdown",
   "id": "427c5b52-cbc2-47c1-ace5-90305d00677f",
   "metadata": {},
   "source": [
    "# Pandas – Tools for data science in Python"
   ]
  },
  {
   "cell_type": "markdown",
   "id": "6bc2df9b-36c0-4555-84f6-fa049a4a1e4c",
   "metadata": {},
   "source": [
    "\"Pandas\" is a portmanteau for \"Panel Data\" - data that you might think of as being in an Excel spreadsheet or in an R data frame (or tibble)."
   ]
  },
  {
   "cell_type": "markdown",
   "id": "5a9febac",
   "metadata": {},
   "source": [
    "|  |  |  |  |\n",
    "| --- | --- | --- | --- | \n",
    "|<img src=\"./assets/jnb021/Panda_Cub_from_Wolong,_Sichuan,_China.jpeg\" alt=\"Drawing\" style=\"width: 300px;\"/> | <img src=\"./assets/jnb021/Panda_Cub_from_Wolong,_Sichuan,_China.jpeg\" alt=\"Drawing\" style=\"width: 300px;\"/> | <img src=\"./assets/jnb021/Panda_Cub_from_Wolong,_Sichuan,_China.jpeg\" alt=\"Drawing\" style=\"width: 300px;\"/> | <img src=\"./assets/jnb021/Panda_Cub_from_Wolong,_Sichuan,_China.jpeg\" alt=\"Drawing\" style=\"width: 300px;\"/> |"
   ]
  },
  {
   "cell_type": "markdown",
   "id": "50a7cbf2-1340-401f-9500-0acf6d5c2ac0",
   "metadata": {},
   "source": [
    "Python was never intended as a language for data science. Rather, Python was meant to be a language whose users (i.e. us) could take in whatever direction they wished (in that egaletarian Pythonic fashion). Because it is such a fun language in which to program, it wasn't long before people that used R but had fallen in love with Python began writing modules to do R-like data science in Python. One of the best of these efforts is `pandas`."
   ]
  },
  {
   "cell_type": "markdown",
   "id": "4dea46c0",
   "metadata": {},
   "source": [
    "#### A short history of Pandas.\n",
    "Wes McKinney started developing what then became pandas while working at the capital management firm Applied Quantitative Research (AQR). Pandas was developed initially as a closed-source project and was made open source in 2009. Pandas is sponsored by [NumFOCUS, Inc.](https://numfocus.org/) that promotes support and sponsorships of python based open source code. "
   ]
  },
  {
   "cell_type": "markdown",
   "id": "ff9764c9-8613-46b8-81bd-8a669f7684a1",
   "metadata": {},
   "source": [
    "Most importantly, pandas provides Python users (us) with a \"data frame\" container, which function almost exactly like a `DataFrame` or `tibble` object in R, in which the variables are in the columns, and each individual observation is a row. It also provides a couple of other useful objects: the `Series` object, which is a column vector (a 1D collection of numbers), and an `Index`, which uniquely identifies the rows of a `DataFrame` or `Series`."
   ]
  },
  {
   "cell_type": "markdown",
   "id": "45b43bea",
   "metadata": {},
   "source": [
    "## Pandas - Introduction to fundamental objects"
   ]
  },
  {
   "cell_type": "markdown",
   "id": "3d5be580",
   "metadata": {},
   "source": [
    "`pandas` is the Python library that structures and simplifies data manipulation and analysis. The library represents data as tables (`DataFrames`) or 1D data series (`Series`), each of which comes with a sort of extra first column called an `Index`. "
   ]
  },
  {
   "cell_type": "markdown",
   "id": "3b962c7f-51ab-4772-8139-5b583bd6fc5a",
   "metadata": {},
   "source": [
    "  - `Series` - A mutable, one-dimensional array of indexed data.\n",
    "  - `DataFrame` - A two-dimensional, size-mutable, data structure, similar to an R data frame or tibble.\n",
    "  - `Index` -  An one-dimensional, immutable array of keys (or references) to rows of a `Series` or `DataFrame`.\n",
    "  "
   ]
  },
  {
   "cell_type": "markdown",
   "id": "4d0a7de0-988e-4643-9095-ab3a92d7761a",
   "metadata": {},
   "source": [
    "Below we will learn a little bit more about these three data objects."
   ]
  },
  {
   "cell_type": "markdown",
   "id": "eb95c4d3-5d6b-4e8e-af91-45ef682e0421",
   "metadata": {},
   "source": [
    "First, we'll import pandas and give it the nickname \"pd\". We can actually name it anything we want, but it's convention to name it `pd`. If we stick to this convention, our code will be more readable to others."
   ]
  },
  {
   "cell_type": "code",
   "execution_count": 1,
   "id": "c7b31003",
   "metadata": {},
   "outputs": [],
   "source": [
    "import pandas as pd"
   ]
  },
  {
   "cell_type": "markdown",
   "id": "61a4e23d",
   "metadata": {},
   "source": [
    "### The pandas `Series` object\n",
    "\n",
    "A pandas `Series` is a one-dimensional column of values that comes with indexes to the values, kind of like a Python dictionary (`dict`). "
   ]
  },
  {
   "cell_type": "markdown",
   "id": "34454c45",
   "metadata": {},
   "source": [
    "As a first example, let's define a pandas Series object and assign a set of string values to the elements of the object. We do this with pandas Series() function:"
   ]
  },
  {
   "cell_type": "code",
   "execution_count": 2,
   "id": "c9a07992",
   "metadata": {},
   "outputs": [],
   "source": [
    "data = pd.Series(['a', 'b', 'c', 'd'])"
   ]
  },
  {
   "cell_type": "markdown",
   "id": "7d145b3e",
   "metadata": {},
   "source": [
    "After defining the object let's explore it."
   ]
  },
  {
   "cell_type": "code",
   "execution_count": 3,
   "id": "cc666d89",
   "metadata": {},
   "outputs": [
    {
     "name": "stdout",
     "output_type": "stream",
     "text": [
      "0    a\n",
      "1    b\n",
      "2    c\n",
      "3    d\n",
      "dtype: object\n"
     ]
    }
   ],
   "source": [
    "print(data)"
   ]
  },
  {
   "cell_type": "markdown",
   "id": "a0cf8b83",
   "metadata": {},
   "source": [
    "The data type is defined as `object`, the values we assigned are stored in the second column. The first column is the `Index` automatically assigned by pandas to each value. Having an index for each row is a foundamental data organization aspect of pandas. Values always have indexes, because pandas deals with panel data, i.e., tables. So even a one-dimensional array as a Series is assigned indices just like a table is.\n",
    "\n",
    "We will discuss pandas index objects in further detail below."
   ]
  },
  {
   "cell_type": "markdown",
   "id": "1d651861",
   "metadata": {},
   "source": [
    "A Pandas Series can be created directly by assigning values into a Python list (using `[]`), and that list to a series (`pd.Series()`). Yet, the final product of that series definition create something different than an list. It creates a set of pairs of values where a label (`index`) is associated to a corresponding value. \n",
    "\n",
    "Series are capable of holding data of any type (integer, string, float, python objects, etc.).  For example:"
   ]
  },
  {
   "cell_type": "code",
   "execution_count": 4,
   "id": "2b82ffce",
   "metadata": {},
   "outputs": [
    {
     "name": "stdout",
     "output_type": "stream",
     "text": [
      "0    string\n",
      "1        10\n",
      "2      True\n",
      "3      0.01\n",
      "dtype: object\n"
     ]
    }
   ],
   "source": [
    "data = pd.Series(['string',10, True ,0.01])\n",
    "print(data)"
   ]
  },
  {
   "cell_type": "markdown",
   "id": "9dbbdaf2-4996-4bf3-be25-5c2e3c7afa7d",
   "metadata": {},
   "source": [
    "Once the Series object is created, the Index is created and it becomes part of the Series object. This means that the Index to the entries can be retrieved and used to address the corresponding entry. For example:"
   ]
  },
  {
   "cell_type": "code",
   "execution_count": 5,
   "id": "a5bde9ed-ed98-4740-81a9-e5446de311c8",
   "metadata": {},
   "outputs": [
    {
     "data": {
      "text/plain": [
       "True"
      ]
     },
     "execution_count": 5,
     "metadata": {},
     "output_type": "execute_result"
    }
   ],
   "source": [
    "data[2]"
   ]
  },
  {
   "cell_type": "markdown",
   "id": "96ce6545-9d0f-4660-b33a-6d7f854c338c",
   "metadata": {},
   "source": [
    "The `index` column is actually a `property` of the `Series` - an object within an object, as we have encountered before."
   ]
  },
  {
   "cell_type": "markdown",
   "id": "1b19e34c-194a-46b5-b9e2-df5208c59f07",
   "metadata": {},
   "source": [
    "We can look at the `index` using the dot notation of `object.property`:"
   ]
  },
  {
   "cell_type": "code",
   "execution_count": 6,
   "id": "922598f7",
   "metadata": {},
   "outputs": [
    {
     "data": {
      "text/plain": [
       "RangeIndex(start=0, stop=4, step=1)"
      ]
     },
     "execution_count": 6,
     "metadata": {},
     "output_type": "execute_result"
    }
   ],
   "source": [
    "data.index"
   ]
  },
  {
   "cell_type": "markdown",
   "id": "805bffef",
   "metadata": {},
   "source": [
    "We can also slice our Series object using the index column:"
   ]
  },
  {
   "cell_type": "code",
   "execution_count": 7,
   "id": "bf19e0f6",
   "metadata": {},
   "outputs": [
    {
     "data": {
      "text/plain": [
       "0    string\n",
       "1        10\n",
       "2      True\n",
       "dtype: object"
      ]
     },
     "execution_count": 7,
     "metadata": {},
     "output_type": "execute_result"
    }
   ],
   "source": [
    "data[0:3]"
   ]
  },
  {
   "cell_type": "markdown",
   "id": "20f4c8f0",
   "metadata": {},
   "source": [
    "So what's the big deal? Right now, we're thinking – snore - this is just like a Python list... \n",
    "\n",
    "However, in `pandas`, we can create a Series object by explictly assigning values and indices - in other words, we get to *name* the rows:"
   ]
  },
  {
   "cell_type": "code",
   "execution_count": 8,
   "id": "9a7be44d",
   "metadata": {},
   "outputs": [
    {
     "name": "stdout",
     "output_type": "stream",
     "text": [
      "0    string\n",
      "3        10\n",
      "2      True\n",
      "4      0.01\n",
      "dtype: object\n"
     ]
    }
   ],
   "source": [
    "data1 = pd.Series(['string', 10, True, 0.01],index=[0,3,2,4])\n",
    "\n",
    "print(data1)"
   ]
  },
  {
   "cell_type": "markdown",
   "id": "60ba7477",
   "metadata": {},
   "source": [
    "Even though `data` and `data1` might look the same, they are not. The indices are different:"
   ]
  },
  {
   "cell_type": "code",
   "execution_count": 9,
   "id": "95d407e0",
   "metadata": {},
   "outputs": [
    {
     "name": "stdout",
     "output_type": "stream",
     "text": [
      "RangeIndex(start=0, stop=4, step=1)\n",
      "Int64Index([0, 3, 2, 4], dtype='int64')\n"
     ]
    }
   ],
   "source": [
    "print(data.index)\n",
    "print(data1.index)"
   ]
  },
  {
   "cell_type": "markdown",
   "id": "6e0ac49c",
   "metadata": {},
   "source": [
    "So, that, if we address the second entry in either object we will get different values:"
   ]
  },
  {
   "cell_type": "code",
   "execution_count": 10,
   "id": "afd59fa4",
   "metadata": {},
   "outputs": [
    {
     "name": "stdout",
     "output_type": "stream",
     "text": [
      "0.01\n",
      "10\n"
     ]
    }
   ],
   "source": [
    "print(data[3])\n",
    "print(data1[3])"
   ]
  },
  {
   "cell_type": "markdown",
   "id": "55391426",
   "metadata": {},
   "source": [
    "One way to think about pandas Series objects is that they are dictionaries where a label is paired to a value, say `label 1` is assigned to `value 1`, or `label 2` to `value 3` etc. Indeed, a pandas Series object can be constructed by hand building a dictionary a set of pairing of labels and values. \n",
    "\n",
    "For example, let's build a [Python dictionary](https://docs.python.org/3/tutorial/datastructures.html#dictionaries) of cognitive health. The dictionary pairs a label to a value: "
   ]
  },
  {
   "cell_type": "code",
   "execution_count": 11,
   "id": "a83b43b0",
   "metadata": {},
   "outputs": [],
   "source": [
    "cognitive_health = {'happyness':10,\n",
    "                    'language': 2, \n",
    "                    'energy': 5, \n",
    "                    'memory': 3}"
   ]
  },
  {
   "cell_type": "markdown",
   "id": "b16c8251",
   "metadata": {},
   "source": [
    "Note that python dictionaries have attributes (you can type `cognitive_health.` and press `tab` twice to get a list of attributes), yet the python dictionary does not have `index` as an attribute. \n",
    "\n",
    "The following line will return an error."
   ]
  },
  {
   "cell_type": "code",
   "execution_count": 12,
   "id": "7ddea7ea",
   "metadata": {},
   "outputs": [
    {
     "ename": "AttributeError",
     "evalue": "'dict' object has no attribute 'index'",
     "output_type": "error",
     "traceback": [
      "\u001b[0;31m---------------------------------------------------------------------------\u001b[0m",
      "\u001b[0;31mAttributeError\u001b[0m                            Traceback (most recent call last)",
      "Cell \u001b[0;32mIn[12], line 1\u001b[0m\n\u001b[0;32m----> 1\u001b[0m cognitive_health\u001b[38;5;241m.\u001b[39mindex\n",
      "\u001b[0;31mAttributeError\u001b[0m: 'dict' object has no attribute 'index'"
     ]
    }
   ],
   "source": [
    "cognitive_health.index"
   ]
  },
  {
   "cell_type": "markdown",
   "id": "c87fcc77",
   "metadata": {},
   "source": [
    "Python dictionaries can be used to set pandas Series directly:"
   ]
  },
  {
   "cell_type": "code",
   "execution_count": 13,
   "id": "6e29c05c",
   "metadata": {},
   "outputs": [],
   "source": [
    "cognitive_health_Series = pd.Series(cognitive_health)"
   ]
  },
  {
   "cell_type": "markdown",
   "id": "47d117e7",
   "metadata": {},
   "source": [
    "The dictionary has been made into a panda Series and it is now ordered and labelled. So, the following operation will not return an error, but the labels of the Series (the indices):"
   ]
  },
  {
   "cell_type": "code",
   "execution_count": 14,
   "id": "f7ef31a0",
   "metadata": {},
   "outputs": [
    {
     "data": {
      "text/plain": [
       "Index(['happyness', 'language', 'energy', 'memory'], dtype='object')"
      ]
     },
     "execution_count": 14,
     "metadata": {},
     "output_type": "execute_result"
    }
   ],
   "source": [
    "cognitive_health_Series.index"
   ]
  },
  {
   "cell_type": "markdown",
   "id": "49c2fc02",
   "metadata": {},
   "source": [
    "Another important property that the pandas Series have and python dictionaries do not is the ability to allow slicing. Whereas, a dictionary would return an error if called as follows:"
   ]
  },
  {
   "cell_type": "code",
   "execution_count": 15,
   "id": "d324e8d0",
   "metadata": {},
   "outputs": [
    {
     "ename": "TypeError",
     "evalue": "unhashable type: 'slice'",
     "output_type": "error",
     "traceback": [
      "\u001b[0;31m---------------------------------------------------------------------------\u001b[0m",
      "\u001b[0;31mTypeError\u001b[0m                                 Traceback (most recent call last)",
      "Cell \u001b[0;32mIn[15], line 1\u001b[0m\n\u001b[0;32m----> 1\u001b[0m cognitive_health[\u001b[38;5;124m'\u001b[39m\u001b[38;5;124mhappyness\u001b[39m\u001b[38;5;124m'\u001b[39m:\u001b[38;5;124m'\u001b[39m\u001b[38;5;124menergy\u001b[39m\u001b[38;5;124m'\u001b[39m]\n",
      "\u001b[0;31mTypeError\u001b[0m: unhashable type: 'slice'"
     ]
    }
   ],
   "source": [
    "cognitive_health['happyness':'energy']"
   ]
  },
  {
   "cell_type": "markdown",
   "id": "c4534034",
   "metadata": {},
   "source": [
    "A pandas `Series` does allow slicing, however, *even when the indexes are not consecutive integers*: "
   ]
  },
  {
   "cell_type": "code",
   "execution_count": 16,
   "id": "a04cd35d",
   "metadata": {},
   "outputs": [
    {
     "data": {
      "text/plain": [
       "happyness    10\n",
       "language      2\n",
       "energy        5\n",
       "dtype: int64"
      ]
     },
     "execution_count": 16,
     "metadata": {},
     "output_type": "execute_result"
    }
   ],
   "source": [
    "cognitive_health_Series['happyness':'energy']"
   ]
  },
  {
   "cell_type": "markdown",
   "id": "dcda1d8a",
   "metadata": {},
   "source": [
    "To summarize what we have learned about pandas Series:\n",
    "\n",
    " - They are ordered and labelled one-dimensional arrays.\n",
    " - They can be populated by assigning\n",
    "  - values only (indeces are automatically assigned): `series = pd.Series(['a','b','c'])`\n",
    "  - values and indices explicitly: `series = pd.Series(['a','b','c'],index = [1,3,2])`\n",
    "  - python dictionaries directly: `dic = {1:'a',2:'b',3:'c'}`, `series = pd.Series(dic)` \n",
    " - They always come with the property `index`"
   ]
  },
  {
   "cell_type": "markdown",
   "id": "9a738f4f-b32b-4740-8c8a-25c65e47002a",
   "metadata": {},
   "source": [
    "---"
   ]
  },
  {
   "cell_type": "markdown",
   "id": "fe74dfd4",
   "metadata": {},
   "source": [
    "  - Use the cell below to create a `Pandas` `Series` containing the months of the year as labels (index) and their duration in months as values (use a dictionary to create the `Series`):"
   ]
  },
  {
   "cell_type": "code",
   "execution_count": 20,
   "id": "996116d7",
   "metadata": {},
   "outputs": [
    {
     "name": "stdout",
     "output_type": "stream",
     "text": [
      "{'January': 31, 'February': 28, 'March': 31, 'April': 30, 'May': 31, 'June': 30, 'July': 31, 'August': 31, 'September': 30, 'October': 31, 'November': 30, 'December': 31}\n"
     ]
    }
   ],
   "source": [
    "months = {'January': 31,\n",
    "          'February': 28, \n",
    "          'March': 31,\n",
    "          'April': 30,\n",
    "         'May' : 31,\n",
    "         'June' : 30,\n",
    "         'July' : 31,\n",
    "         'August' : 31,\n",
    "         'September' : 30,\n",
    "         'October' : 31,\n",
    "         'November' : 30,\n",
    "        'December' : 31}\n",
    "print(months)"
   ]
  },
  {
   "cell_type": "markdown",
   "id": "a3b73bbe",
   "metadata": {},
   "source": [
    " - Use the cell below to create a Pandas Series containing the months of the year as labels (index) and their duration in months as values (define index and values explicitly, or in other words do not use a dictionary to define the `Series`):"
   ]
  },
  {
   "cell_type": "code",
   "execution_count": 22,
   "id": "2bb9fdbd",
   "metadata": {},
   "outputs": [
    {
     "name": "stdout",
     "output_type": "stream",
     "text": [
      "January     31\n",
      "February    28\n",
      "March       31\n",
      "April       30\n",
      "dtype: int64\n"
     ]
    }
   ],
   "source": [
    "months1 = pd.Series([31, 28, 31, 30],index=['January', 'February','March','April'])\n",
    "\n",
    "print(months1)"
   ]
  },
  {
   "cell_type": "markdown",
   "id": "51c06975-d0cd-4717-af87-32ea130dce96",
   "metadata": {},
   "source": [
    "---"
   ]
  },
  {
   "cell_type": "markdown",
   "id": "8458072c",
   "metadata": {},
   "source": [
    "### Pandas `DataFrame` objects"
   ]
  },
  {
   "cell_type": "markdown",
   "id": "ad3cf8a8",
   "metadata": {},
   "source": [
    "The `DataFrame` object is the workhorse of the library. DataFrames have effectively made pandas one of the core \"go to\" libraries for data science."
   ]
  },
  {
   "cell_type": "markdown",
   "id": "e20b2253",
   "metadata": {},
   "source": [
    "The DataFrame is an exstension of the Series object. It is a 2-dimensional table of data that is actually a collection of `Series` objects of the same length that each have their own name (the column label) and share a common row index. \n",
    "\n",
    "A DataFrame can be defined most simply by setting some values to it. The indexing and column labelling is automatically assigned by pandas. For example, we can create a one-dimensional list and assign the values of the list to a DataFrame:"
   ]
  },
  {
   "cell_type": "code",
   "execution_count": 23,
   "id": "2f7eb797",
   "metadata": {},
   "outputs": [
    {
     "name": "stdout",
     "output_type": "stream",
     "text": [
      "   0\n",
      "0  a\n",
      "1  b\n",
      "2  c\n",
      "3  d\n"
     ]
    }
   ],
   "source": [
    "my_list = ['a','b','c','d']\n",
    "data_frame1 = pd.DataFrame(my_list)\n",
    "print(data_frame1)"
   ]
  },
  {
   "cell_type": "markdown",
   "id": "77270c95",
   "metadata": {},
   "source": [
    "Even though the result might seem very similar to that obtained about with the Series object, in reality, the DataFrame object has assigned not one but two labels, one label for the rows dimension (`[0:3]`) and one for the column dimension (`0`).\n",
    "\n",
    "Indeed, we can notice from the `print()` output that two dimensions were automatically labelled (indexed) with numbers. Whereas the Series is created as a one-dimensional object, the DataFrame is created as a two-dimensional object."
   ]
  },
  {
   "cell_type": "markdown",
   "id": "3fdff255-c6be-4e68-bdc1-0722afe7a011",
   "metadata": {},
   "source": [
    "Of course, the above is a silly data frame because it only has one column – that's what a `Series` object is for! So let's make a more exciting `DataFrame`."
   ]
  },
  {
   "cell_type": "code",
   "execution_count": 24,
   "id": "8fe62c95-efd8-4807-9859-a3ec258fd752",
   "metadata": {},
   "outputs": [],
   "source": [
    "# make a list of lists\n",
    "data = [\n",
    "    [1, 'Betty', 17],\n",
    "    [2, 'Veronica', 18],\n",
    "    [3, 'Archie', 18],\n",
    "    [4, 'Jughead', 17]\n",
    "]"
   ]
  },
  {
   "cell_type": "code",
   "execution_count": 25,
   "id": "72f5d4f8-f8ac-43d4-ad1a-6b44c94016a7",
   "metadata": {},
   "outputs": [],
   "source": [
    "# DataFrame from nested list with specified column names\n",
    "df = pd.DataFrame(data, columns=['ID', 'Name', 'Age'])"
   ]
  },
  {
   "cell_type": "code",
   "execution_count": 26,
   "id": "a0d9f35b-e3aa-4432-b628-6353a94e237e",
   "metadata": {},
   "outputs": [
    {
     "data": {
      "text/html": [
       "<div>\n",
       "<style scoped>\n",
       "    .dataframe tbody tr th:only-of-type {\n",
       "        vertical-align: middle;\n",
       "    }\n",
       "\n",
       "    .dataframe tbody tr th {\n",
       "        vertical-align: top;\n",
       "    }\n",
       "\n",
       "    .dataframe thead th {\n",
       "        text-align: right;\n",
       "    }\n",
       "</style>\n",
       "<table border=\"1\" class=\"dataframe\">\n",
       "  <thead>\n",
       "    <tr style=\"text-align: right;\">\n",
       "      <th></th>\n",
       "      <th>ID</th>\n",
       "      <th>Name</th>\n",
       "      <th>Age</th>\n",
       "    </tr>\n",
       "  </thead>\n",
       "  <tbody>\n",
       "    <tr>\n",
       "      <th>0</th>\n",
       "      <td>1</td>\n",
       "      <td>Betty</td>\n",
       "      <td>17</td>\n",
       "    </tr>\n",
       "    <tr>\n",
       "      <th>1</th>\n",
       "      <td>2</td>\n",
       "      <td>Veronica</td>\n",
       "      <td>18</td>\n",
       "    </tr>\n",
       "    <tr>\n",
       "      <th>2</th>\n",
       "      <td>3</td>\n",
       "      <td>Archie</td>\n",
       "      <td>18</td>\n",
       "    </tr>\n",
       "    <tr>\n",
       "      <th>3</th>\n",
       "      <td>4</td>\n",
       "      <td>Jughead</td>\n",
       "      <td>17</td>\n",
       "    </tr>\n",
       "  </tbody>\n",
       "</table>\n",
       "</div>"
      ],
      "text/plain": [
       "   ID      Name  Age\n",
       "0   1     Betty   17\n",
       "1   2  Veronica   18\n",
       "2   3    Archie   18\n",
       "3   4   Jughead   17"
      ]
     },
     "execution_count": 26,
     "metadata": {},
     "output_type": "execute_result"
    }
   ],
   "source": [
    "df"
   ]
  },
  {
   "cell_type": "markdown",
   "id": "4c4d721a-6897-4ef1-bc7a-825f7a2bbd28",
   "metadata": {},
   "source": [
    "How pretty! If we want a single column of data, we just ask for it by name:"
   ]
  },
  {
   "cell_type": "code",
   "execution_count": 27,
   "id": "b39000f7-4db4-4c78-9280-5be1329f26c6",
   "metadata": {},
   "outputs": [
    {
     "data": {
      "text/plain": [
       "0    17\n",
       "1    18\n",
       "2    18\n",
       "3    17\n",
       "Name: Age, dtype: int64"
      ]
     },
     "execution_count": 27,
     "metadata": {},
     "output_type": "execute_result"
    }
   ],
   "source": [
    "df[\"Age\"]"
   ]
  },
  {
   "cell_type": "markdown",
   "id": "caf895f3-4137-47bc-a0ac-d069ab957176",
   "metadata": {},
   "source": [
    "We sort our table by the values in a column:"
   ]
  },
  {
   "cell_type": "code",
   "execution_count": 28,
   "id": "8f0abfec-44fc-404d-b418-751eec640d38",
   "metadata": {},
   "outputs": [
    {
     "data": {
      "text/html": [
       "<div>\n",
       "<style scoped>\n",
       "    .dataframe tbody tr th:only-of-type {\n",
       "        vertical-align: middle;\n",
       "    }\n",
       "\n",
       "    .dataframe tbody tr th {\n",
       "        vertical-align: top;\n",
       "    }\n",
       "\n",
       "    .dataframe thead th {\n",
       "        text-align: right;\n",
       "    }\n",
       "</style>\n",
       "<table border=\"1\" class=\"dataframe\">\n",
       "  <thead>\n",
       "    <tr style=\"text-align: right;\">\n",
       "      <th></th>\n",
       "      <th>ID</th>\n",
       "      <th>Name</th>\n",
       "      <th>Age</th>\n",
       "    </tr>\n",
       "  </thead>\n",
       "  <tbody>\n",
       "    <tr>\n",
       "      <th>0</th>\n",
       "      <td>1</td>\n",
       "      <td>Betty</td>\n",
       "      <td>17</td>\n",
       "    </tr>\n",
       "    <tr>\n",
       "      <th>3</th>\n",
       "      <td>4</td>\n",
       "      <td>Jughead</td>\n",
       "      <td>17</td>\n",
       "    </tr>\n",
       "    <tr>\n",
       "      <th>1</th>\n",
       "      <td>2</td>\n",
       "      <td>Veronica</td>\n",
       "      <td>18</td>\n",
       "    </tr>\n",
       "    <tr>\n",
       "      <th>2</th>\n",
       "      <td>3</td>\n",
       "      <td>Archie</td>\n",
       "      <td>18</td>\n",
       "    </tr>\n",
       "  </tbody>\n",
       "</table>\n",
       "</div>"
      ],
      "text/plain": [
       "   ID      Name  Age\n",
       "0   1     Betty   17\n",
       "3   4   Jughead   17\n",
       "1   2  Veronica   18\n",
       "2   3    Archie   18"
      ]
     },
     "execution_count": 28,
     "metadata": {},
     "output_type": "execute_result"
    }
   ],
   "source": [
    "df.sort_values(\"Age\")"
   ]
  },
  {
   "cell_type": "code",
   "execution_count": 29,
   "id": "0170c689-76c9-4c9f-869b-619fd2fa8588",
   "metadata": {},
   "outputs": [
    {
     "data": {
      "text/html": [
       "<div>\n",
       "<style scoped>\n",
       "    .dataframe tbody tr th:only-of-type {\n",
       "        vertical-align: middle;\n",
       "    }\n",
       "\n",
       "    .dataframe tbody tr th {\n",
       "        vertical-align: top;\n",
       "    }\n",
       "\n",
       "    .dataframe thead th {\n",
       "        text-align: right;\n",
       "    }\n",
       "</style>\n",
       "<table border=\"1\" class=\"dataframe\">\n",
       "  <thead>\n",
       "    <tr style=\"text-align: right;\">\n",
       "      <th></th>\n",
       "      <th>ID</th>\n",
       "      <th>Name</th>\n",
       "      <th>Age</th>\n",
       "    </tr>\n",
       "  </thead>\n",
       "  <tbody>\n",
       "    <tr>\n",
       "      <th>2</th>\n",
       "      <td>3</td>\n",
       "      <td>Archie</td>\n",
       "      <td>18</td>\n",
       "    </tr>\n",
       "    <tr>\n",
       "      <th>0</th>\n",
       "      <td>1</td>\n",
       "      <td>Betty</td>\n",
       "      <td>17</td>\n",
       "    </tr>\n",
       "    <tr>\n",
       "      <th>3</th>\n",
       "      <td>4</td>\n",
       "      <td>Jughead</td>\n",
       "      <td>17</td>\n",
       "    </tr>\n",
       "    <tr>\n",
       "      <th>1</th>\n",
       "      <td>2</td>\n",
       "      <td>Veronica</td>\n",
       "      <td>18</td>\n",
       "    </tr>\n",
       "  </tbody>\n",
       "</table>\n",
       "</div>"
      ],
      "text/plain": [
       "   ID      Name  Age\n",
       "2   3    Archie   18\n",
       "0   1     Betty   17\n",
       "3   4   Jughead   17\n",
       "1   2  Veronica   18"
      ]
     },
     "execution_count": 29,
     "metadata": {},
     "output_type": "execute_result"
    }
   ],
   "source": [
    "df.sort_values(\"Name\")"
   ]
  },
  {
   "cell_type": "markdown",
   "id": "ba5d0f86-4ce9-465d-9259-8642f9d51f34",
   "metadata": {},
   "source": [
    "Let's make another data frame, on that contains all numbers:"
   ]
  },
  {
   "cell_type": "code",
   "execution_count": 30,
   "id": "891d696e-0199-4cfa-af57-a601080b1b99",
   "metadata": {},
   "outputs": [
    {
     "name": "stdout",
     "output_type": "stream",
     "text": [
      "Numerical DataFrame:\n"
     ]
    },
    {
     "data": {
      "text/html": [
       "<div>\n",
       "<style scoped>\n",
       "    .dataframe tbody tr th:only-of-type {\n",
       "        vertical-align: middle;\n",
       "    }\n",
       "\n",
       "    .dataframe tbody tr th {\n",
       "        vertical-align: top;\n",
       "    }\n",
       "\n",
       "    .dataframe thead th {\n",
       "        text-align: right;\n",
       "    }\n",
       "</style>\n",
       "<table border=\"1\" class=\"dataframe\">\n",
       "  <thead>\n",
       "    <tr style=\"text-align: right;\">\n",
       "      <th></th>\n",
       "      <th>A</th>\n",
       "      <th>B</th>\n",
       "      <th>C</th>\n",
       "      <th>D</th>\n",
       "      <th>E</th>\n",
       "    </tr>\n",
       "  </thead>\n",
       "  <tbody>\n",
       "    <tr>\n",
       "      <th>0</th>\n",
       "      <td>1</td>\n",
       "      <td>22</td>\n",
       "      <td>3</td>\n",
       "      <td>4</td>\n",
       "      <td>5</td>\n",
       "    </tr>\n",
       "    <tr>\n",
       "      <th>1</th>\n",
       "      <td>10</td>\n",
       "      <td>17</td>\n",
       "      <td>8</td>\n",
       "      <td>7</td>\n",
       "      <td>6</td>\n",
       "    </tr>\n",
       "    <tr>\n",
       "      <th>2</th>\n",
       "      <td>11</td>\n",
       "      <td>12</td>\n",
       "      <td>13</td>\n",
       "      <td>14</td>\n",
       "      <td>15</td>\n",
       "    </tr>\n",
       "    <tr>\n",
       "      <th>3</th>\n",
       "      <td>16</td>\n",
       "      <td>9</td>\n",
       "      <td>18</td>\n",
       "      <td>19</td>\n",
       "      <td>20</td>\n",
       "    </tr>\n",
       "    <tr>\n",
       "      <th>4</th>\n",
       "      <td>21</td>\n",
       "      <td>2</td>\n",
       "      <td>23</td>\n",
       "      <td>24</td>\n",
       "      <td>25</td>\n",
       "    </tr>\n",
       "  </tbody>\n",
       "</table>\n",
       "</div>"
      ],
      "text/plain": [
       "    A   B   C   D   E\n",
       "0   1  22   3   4   5\n",
       "1  10  17   8   7   6\n",
       "2  11  12  13  14  15\n",
       "3  16   9  18  19  20\n",
       "4  21   2  23  24  25"
      ]
     },
     "execution_count": 30,
     "metadata": {},
     "output_type": "execute_result"
    }
   ],
   "source": [
    "data = [\n",
    "    [1, 22, 3, 4, 5],\n",
    "    [10, 17, 8, 7, 6],\n",
    "    [11, 12, 13, 14, 15],\n",
    "    [16, 9, 18, 19, 20],\n",
    "    [21, 2, 23, 24, 25]\n",
    "]\n",
    "\n",
    "# Creating the DataFrame\n",
    "columns = ['A', 'B', 'C', 'D', 'E']\n",
    "df2 = pd.DataFrame(data, columns=columns)\n",
    "\n",
    "print(\"Numerical DataFrame:\")\n",
    "\n",
    "df2"
   ]
  },
  {
   "cell_type": "markdown",
   "id": "50051fc8-b6ae-48a6-aa90-987db8a07bbc",
   "metadata": {},
   "source": [
    "Now, using the various methods that `DataFrame` objects have, we can compute stuff, like the mean and standard deviation of each column:"
   ]
  },
  {
   "cell_type": "code",
   "execution_count": 31,
   "id": "402b579f-4adc-409d-9f28-5674666fe6cf",
   "metadata": {},
   "outputs": [
    {
     "data": {
      "text/plain": [
       "A    11.8\n",
       "B    12.4\n",
       "C    13.0\n",
       "D    13.6\n",
       "E    14.2\n",
       "dtype: float64"
      ]
     },
     "execution_count": 31,
     "metadata": {},
     "output_type": "execute_result"
    }
   ],
   "source": [
    "df2.mean()"
   ]
  },
  {
   "cell_type": "code",
   "execution_count": 32,
   "id": "4fd88d46-39bd-48b0-8c33-6249639fa3f3",
   "metadata": {},
   "outputs": [
    {
     "data": {
      "text/plain": [
       "A    7.463243\n",
       "B    7.635444\n",
       "C    7.905694\n",
       "D    8.264381\n",
       "E    8.700575\n",
       "dtype: float64"
      ]
     },
     "execution_count": 32,
     "metadata": {},
     "output_type": "execute_result"
    }
   ],
   "source": [
    "df2.std()"
   ]
  },
  {
   "cell_type": "markdown",
   "id": "392442c8-823e-4990-b516-e8715899541c",
   "metadata": {},
   "source": [
    "---"
   ]
  },
  {
   "cell_type": "markdown",
   "id": "875132c7-7b34-413a-b134-0b52e0da689e",
   "metadata": {},
   "source": [
    "Use our trick of typing `df2.` and hitting the tab key to see the list of available methods. Now try one!"
   ]
  },
  {
   "cell_type": "code",
   "execution_count": 33,
   "id": "527f4831-d3c9-4c3b-b751-2e6713c9828c",
   "metadata": {},
   "outputs": [
    {
     "data": {
      "text/html": [
       "<div>\n",
       "<style scoped>\n",
       "    .dataframe tbody tr th:only-of-type {\n",
       "        vertical-align: middle;\n",
       "    }\n",
       "\n",
       "    .dataframe tbody tr th {\n",
       "        vertical-align: top;\n",
       "    }\n",
       "\n",
       "    .dataframe thead th {\n",
       "        text-align: right;\n",
       "    }\n",
       "</style>\n",
       "<table border=\"1\" class=\"dataframe\">\n",
       "  <thead>\n",
       "    <tr style=\"text-align: right;\">\n",
       "      <th></th>\n",
       "      <th>A</th>\n",
       "      <th>B</th>\n",
       "      <th>C</th>\n",
       "      <th>D</th>\n",
       "      <th>E</th>\n",
       "    </tr>\n",
       "  </thead>\n",
       "  <tbody>\n",
       "    <tr>\n",
       "      <th>0</th>\n",
       "      <td>1</td>\n",
       "      <td>22</td>\n",
       "      <td>3</td>\n",
       "      <td>4</td>\n",
       "      <td>5</td>\n",
       "    </tr>\n",
       "    <tr>\n",
       "      <th>1</th>\n",
       "      <td>10</td>\n",
       "      <td>17</td>\n",
       "      <td>8</td>\n",
       "      <td>7</td>\n",
       "      <td>6</td>\n",
       "    </tr>\n",
       "    <tr>\n",
       "      <th>2</th>\n",
       "      <td>11</td>\n",
       "      <td>12</td>\n",
       "      <td>13</td>\n",
       "      <td>14</td>\n",
       "      <td>15</td>\n",
       "    </tr>\n",
       "    <tr>\n",
       "      <th>3</th>\n",
       "      <td>16</td>\n",
       "      <td>9</td>\n",
       "      <td>18</td>\n",
       "      <td>19</td>\n",
       "      <td>20</td>\n",
       "    </tr>\n",
       "    <tr>\n",
       "      <th>4</th>\n",
       "      <td>21</td>\n",
       "      <td>2</td>\n",
       "      <td>23</td>\n",
       "      <td>24</td>\n",
       "      <td>25</td>\n",
       "    </tr>\n",
       "  </tbody>\n",
       "</table>\n",
       "</div>"
      ],
      "text/plain": [
       "    A   B   C   D   E\n",
       "0   1  22   3   4   5\n",
       "1  10  17   8   7   6\n",
       "2  11  12  13  14  15\n",
       "3  16   9  18  19  20\n",
       "4  21   2  23  24  25"
      ]
     },
     "execution_count": 33,
     "metadata": {},
     "output_type": "execute_result"
    }
   ],
   "source": [
    "df.squeeze()"
   ]
  },
  {
   "cell_type": "markdown",
   "id": "539f8bb5-8bae-4f37-bcb1-2bedee637383",
   "metadata": {},
   "source": [
    "---"
   ]
  },
  {
   "cell_type": "markdown",
   "id": "c4e84a87-2f19-41a2-8941-cea3bd359597",
   "metadata": {},
   "source": [
    "What happens if you try to compute the `.mean()` of the Archie `df`?"
   ]
  },
  {
   "cell_type": "markdown",
   "id": "e7a4ed42-a8f2-410b-96bc-282a7364d7cb",
   "metadata": {},
   "source": []
  },
  {
   "cell_type": "markdown",
   "id": "7cac49da-466f-4fe5-9f3f-73ee4a65b9de",
   "metadata": {},
   "source": [
    "Now see if you can figure out how to compute the mean of Age column:"
   ]
  },
  {
   "cell_type": "code",
   "execution_count": 36,
   "id": "23c1a1da-4bee-4263-9e52-00d9692740cd",
   "metadata": {},
   "outputs": [
    {
     "ename": "TypeError",
     "evalue": "'method' object is not subscriptable",
     "output_type": "error",
     "traceback": [
      "\u001b[0;31m---------------------------------------------------------------------------\u001b[0m",
      "\u001b[0;31mTypeError\u001b[0m                                 Traceback (most recent call last)",
      "Cell \u001b[0;32mIn[36], line 1\u001b[0m\n\u001b[0;32m----> 1\u001b[0m df2\u001b[38;5;241m.\u001b[39mmean[\u001b[38;5;124m'\u001b[39m\u001b[38;5;124mAge\u001b[39m\u001b[38;5;124m'\u001b[39m]\n",
      "\u001b[0;31mTypeError\u001b[0m: 'method' object is not subscriptable"
     ]
    }
   ],
   "source": [
    "df2.mean['Age']"
   ]
  },
  {
   "cell_type": "markdown",
   "id": "6303fdea-288f-4d49-bd59-cec65e9ff5d1",
   "metadata": {},
   "source": [
    "---"
   ]
  },
  {
   "cell_type": "markdown",
   "id": "e40ca7c4",
   "metadata": {},
   "source": [
    "As mentioned above, nother way to think about a DataFrame is that it is a sequence of *aligned* Series objects. What do we mean by that?\n",
    "\n",
    "Each column in the DataFrame can be thought of as a Series. Each series is labelled by the column index. Importantly, however, the series are *aligned*, this means that the set of Series (the columns of the DataFrame) are indexed by a common `Index` object.\n",
    "\n",
    "Let's take a look at all this."
   ]
  },
  {
   "cell_type": "markdown",
   "id": "db6f2afd",
   "metadata": {},
   "source": [
    "Let's construct a new Series object similar to `cognitive_health_Series`, the object we created above (make sure that object is still in memeory, if needed re-run that section of the cells). Let's assume that that original series represented the data collected on a subject."
   ]
  },
  {
   "cell_type": "code",
   "execution_count": 37,
   "id": "e319b354",
   "metadata": {},
   "outputs": [
    {
     "data": {
      "text/plain": [
       "happyness    10\n",
       "language      2\n",
       "energy        5\n",
       "memory        3\n",
       "dtype: int64"
      ]
     },
     "execution_count": 37,
     "metadata": {},
     "output_type": "execute_result"
    }
   ],
   "source": [
    "cognitive_health_Series"
   ]
  },
  {
   "cell_type": "markdown",
   "id": "5dd9366f",
   "metadata": {},
   "source": [
    "The new Series will represent data on a second subject. To build the series we will use steps similar to the ones used above. We will first make a python dictionary and then make a pandas Series object out of it."
   ]
  },
  {
   "cell_type": "code",
   "execution_count": 38,
   "id": "bd9c364a",
   "metadata": {},
   "outputs": [
    {
     "data": {
      "text/plain": [
       "happyness    15\n",
       "language      4\n",
       "energy        9\n",
       "memory        6\n",
       "dtype: int64"
      ]
     },
     "execution_count": 38,
     "metadata": {},
     "output_type": "execute_result"
    }
   ],
   "source": [
    "cognitive_health_subject2_dict = {'happyness': 15,\n",
    "                                  'language': 4, \n",
    "                                  'energy': 9, \n",
    "                                  'memory': 6}\n",
    "cognitive_health_subject2_series = pd.Series(cognitive_health_subject2_dict)\n",
    "cognitive_health_subject2_series"
   ]
  },
  {
   "cell_type": "markdown",
   "id": "4733c06f",
   "metadata": {},
   "source": [
    " "
   ]
  },
  {
   "cell_type": "markdown",
   "id": "11c25226",
   "metadata": {},
   "source": [
    "Now that we have two pandas Series, we can construct a pandas DataFrame by combining the two Series objects. \n",
    "\n",
    "To do so, we will first create a single dictionary containing the two series, labelled as `subject 1` and `subject 2` and then use that dictionary to make a DataFrame."
   ]
  },
  {
   "cell_type": "markdown",
   "id": "72e81a77",
   "metadata": {},
   "source": [
    "The dictionary for the DataFrame is formed by assigning each subject to a label:"
   ]
  },
  {
   "cell_type": "code",
   "execution_count": 39,
   "id": "94b796ff",
   "metadata": {},
   "outputs": [
    {
     "name": "stdout",
     "output_type": "stream",
     "text": [
      "{'subject 1': happyness    10\n",
      "language      2\n",
      "energy        5\n",
      "memory        3\n",
      "dtype: int64, 'subject 2': happyness    15\n",
      "language      4\n",
      "energy        9\n",
      "memory        6\n",
      "dtype: int64}\n"
     ]
    }
   ],
   "source": [
    "dict = {'subject 1' : cognitive_health_Series, \n",
    "        'subject 2' : cognitive_health_subject2_series}\n",
    "print(dict)"
   ]
  },
  {
   "cell_type": "markdown",
   "id": "4dc145ad",
   "metadata": {},
   "source": [
    "The dictionary can now be used to build a DataFrame:"
   ]
  },
  {
   "cell_type": "code",
   "execution_count": 40,
   "id": "1a8fd462",
   "metadata": {},
   "outputs": [
    {
     "data": {
      "text/html": [
       "<div>\n",
       "<style scoped>\n",
       "    .dataframe tbody tr th:only-of-type {\n",
       "        vertical-align: middle;\n",
       "    }\n",
       "\n",
       "    .dataframe tbody tr th {\n",
       "        vertical-align: top;\n",
       "    }\n",
       "\n",
       "    .dataframe thead th {\n",
       "        text-align: right;\n",
       "    }\n",
       "</style>\n",
       "<table border=\"1\" class=\"dataframe\">\n",
       "  <thead>\n",
       "    <tr style=\"text-align: right;\">\n",
       "      <th></th>\n",
       "      <th>subject 1</th>\n",
       "      <th>subject 2</th>\n",
       "    </tr>\n",
       "  </thead>\n",
       "  <tbody>\n",
       "    <tr>\n",
       "      <th>happyness</th>\n",
       "      <td>10</td>\n",
       "      <td>15</td>\n",
       "    </tr>\n",
       "    <tr>\n",
       "      <th>language</th>\n",
       "      <td>2</td>\n",
       "      <td>4</td>\n",
       "    </tr>\n",
       "    <tr>\n",
       "      <th>energy</th>\n",
       "      <td>5</td>\n",
       "      <td>9</td>\n",
       "    </tr>\n",
       "    <tr>\n",
       "      <th>memory</th>\n",
       "      <td>3</td>\n",
       "      <td>6</td>\n",
       "    </tr>\n",
       "  </tbody>\n",
       "</table>\n",
       "</div>"
      ],
      "text/plain": [
       "           subject 1  subject 2\n",
       "happyness         10         15\n",
       "language           2          4\n",
       "energy             5          9\n",
       "memory             3          6"
      ]
     },
     "execution_count": 40,
     "metadata": {},
     "output_type": "execute_result"
    }
   ],
   "source": [
    "sample = pd.DataFrame(dict)\n",
    "sample"
   ]
  },
  {
   "cell_type": "markdown",
   "id": "e5170db7",
   "metadata": {},
   "source": [
    "Excellent. Pandas did its Kung Fu. The dictionary comprising two pandas Series, was organized into a pandas DataFrame."
   ]
  },
  {
   "cell_type": "markdown",
   "id": "3f3bd391",
   "metadata": {},
   "source": [
    "Next try adding two more subjects to the same DataFrame (`sample`). Let's practice this with a subject that has all values higher than subject 2 by a value of 3 (just add 3) and another subject that has all values lower than subject 2 by a value of 2 (just subtract 3)."
   ]
  },
  {
   "cell_type": "code",
   "execution_count": 41,
   "id": "89f91104",
   "metadata": {},
   "outputs": [
    {
     "data": {
      "text/plain": [
       "happyness    18\n",
       "language      7\n",
       "energy       12\n",
       "memory        9\n",
       "dtype: int64"
      ]
     },
     "execution_count": 41,
     "metadata": {},
     "output_type": "execute_result"
    }
   ],
   "source": [
    "cognitive_health_subject3_dict = {'happyness': 15+3,\n",
    "                                  'language': 4+3, \n",
    "                                  'energy': 9+3, \n",
    "                                  'memory': 6+3}\n",
    "cognitive_health_subject3_series = pd.Series(cognitive_health_subject3_dict)\n",
    "cognitive_health_subject3_series"
   ]
  },
  {
   "cell_type": "code",
   "execution_count": 42,
   "id": "f427937e",
   "metadata": {},
   "outputs": [
    {
     "data": {
      "text/plain": [
       "happyness    13\n",
       "language      2\n",
       "energy        7\n",
       "memory        4\n",
       "dtype: int64"
      ]
     },
     "execution_count": 42,
     "metadata": {},
     "output_type": "execute_result"
    }
   ],
   "source": [
    "cognitive_health_subject4_dict = {'happyness': 15-2,\n",
    "                                  'language': 4-2, \n",
    "                                  'energy': 9-2, \n",
    "                                  'memory': 6-2}\n",
    "cognitive_health_subject4_series = pd.Series(cognitive_health_subject4_dict)\n",
    "cognitive_health_subject4_series"
   ]
  },
  {
   "cell_type": "markdown",
   "id": "b4ad23d3",
   "metadata": {},
   "source": [
    "## dict = {'subject 1' : cognitive_health_Series, \n",
    "        'subject 2' : cognitive_health_subject2_series, \n",
    "        'subject 3' : cognitive_health_subject3_series,\n",
    "        'subject 4' : cognitive_health_subject4_series,\n",
    "       }\n",
    "print(dict)"
   ]
  },
  {
   "cell_type": "code",
   "execution_count": 44,
   "id": "56bbcb40",
   "metadata": {},
   "outputs": [
    {
     "data": {
      "text/html": [
       "<div>\n",
       "<style scoped>\n",
       "    .dataframe tbody tr th:only-of-type {\n",
       "        vertical-align: middle;\n",
       "    }\n",
       "\n",
       "    .dataframe tbody tr th {\n",
       "        vertical-align: top;\n",
       "    }\n",
       "\n",
       "    .dataframe thead th {\n",
       "        text-align: right;\n",
       "    }\n",
       "</style>\n",
       "<table border=\"1\" class=\"dataframe\">\n",
       "  <thead>\n",
       "    <tr style=\"text-align: right;\">\n",
       "      <th></th>\n",
       "      <th>subject 1</th>\n",
       "      <th>subject 2</th>\n",
       "      <th>subject 3</th>\n",
       "      <th>subject 4</th>\n",
       "    </tr>\n",
       "  </thead>\n",
       "  <tbody>\n",
       "    <tr>\n",
       "      <th>happyness</th>\n",
       "      <td>10</td>\n",
       "      <td>15</td>\n",
       "      <td>18</td>\n",
       "      <td>13</td>\n",
       "    </tr>\n",
       "    <tr>\n",
       "      <th>language</th>\n",
       "      <td>2</td>\n",
       "      <td>4</td>\n",
       "      <td>7</td>\n",
       "      <td>2</td>\n",
       "    </tr>\n",
       "    <tr>\n",
       "      <th>energy</th>\n",
       "      <td>5</td>\n",
       "      <td>9</td>\n",
       "      <td>12</td>\n",
       "      <td>7</td>\n",
       "    </tr>\n",
       "    <tr>\n",
       "      <th>memory</th>\n",
       "      <td>3</td>\n",
       "      <td>6</td>\n",
       "      <td>9</td>\n",
       "      <td>4</td>\n",
       "    </tr>\n",
       "  </tbody>\n",
       "</table>\n",
       "</div>"
      ],
      "text/plain": [
       "           subject 1  subject 2  subject 3  subject 4\n",
       "happyness         10         15         18         13\n",
       "language           2          4          7          2\n",
       "energy             5          9         12          7\n",
       "memory             3          6          9          4"
      ]
     },
     "execution_count": 44,
     "metadata": {},
     "output_type": "execute_result"
    }
   ],
   "source": [
    "sample = pd.DataFrame(dict)\n",
    "sample"
   ]
  },
  {
   "cell_type": "code",
   "execution_count": 45,
   "id": "716c16ef",
   "metadata": {},
   "outputs": [
    {
     "data": {
      "text/html": [
       "<div>\n",
       "<style scoped>\n",
       "    .dataframe tbody tr th:only-of-type {\n",
       "        vertical-align: middle;\n",
       "    }\n",
       "\n",
       "    .dataframe tbody tr th {\n",
       "        vertical-align: top;\n",
       "    }\n",
       "\n",
       "    .dataframe thead th {\n",
       "        text-align: right;\n",
       "    }\n",
       "</style>\n",
       "<table border=\"1\" class=\"dataframe\">\n",
       "  <thead>\n",
       "    <tr style=\"text-align: right;\">\n",
       "      <th></th>\n",
       "      <th>subject 1</th>\n",
       "      <th>subject 2</th>\n",
       "      <th>subject 3</th>\n",
       "      <th>subject 4</th>\n",
       "    </tr>\n",
       "  </thead>\n",
       "  <tbody>\n",
       "    <tr>\n",
       "      <th>happyness</th>\n",
       "      <td>False</td>\n",
       "      <td>False</td>\n",
       "      <td>False</td>\n",
       "      <td>False</td>\n",
       "    </tr>\n",
       "    <tr>\n",
       "      <th>language</th>\n",
       "      <td>False</td>\n",
       "      <td>False</td>\n",
       "      <td>False</td>\n",
       "      <td>False</td>\n",
       "    </tr>\n",
       "    <tr>\n",
       "      <th>energy</th>\n",
       "      <td>False</td>\n",
       "      <td>False</td>\n",
       "      <td>False</td>\n",
       "      <td>False</td>\n",
       "    </tr>\n",
       "    <tr>\n",
       "      <th>memory</th>\n",
       "      <td>False</td>\n",
       "      <td>False</td>\n",
       "      <td>False</td>\n",
       "      <td>False</td>\n",
       "    </tr>\n",
       "  </tbody>\n",
       "</table>\n",
       "</div>"
      ],
      "text/plain": [
       "           subject 1  subject 2  subject 3  subject 4\n",
       "happyness      False      False      False      False\n",
       "language       False      False      False      False\n",
       "energy         False      False      False      False\n",
       "memory         False      False      False      False"
      ]
     },
     "execution_count": 45,
     "metadata": {},
     "output_type": "execute_result"
    }
   ],
   "source": [
    "sample.isna()"
   ]
  },
  {
   "cell_type": "markdown",
   "id": "1a116791",
   "metadata": {},
   "source": [
    "The newly created DataFrame has various attributes that we can explore. We can address and extract the columns for example:"
   ]
  },
  {
   "cell_type": "code",
   "execution_count": 46,
   "id": "9223214d",
   "metadata": {},
   "outputs": [
    {
     "name": "stdout",
     "output_type": "stream",
     "text": [
      "Index(['subject 1', 'subject 2', 'subject 3', 'subject 4'], dtype='object')\n"
     ]
    }
   ],
   "source": [
    "cols = sample.columns\n",
    "print(cols)"
   ]
  },
  {
   "cell_type": "markdown",
   "id": "1ffef904",
   "metadata": {},
   "source": [
    "We can address the rows, which in technical terms are called the labels or the index:"
   ]
  },
  {
   "cell_type": "code",
   "execution_count": 47,
   "id": "d177f83f",
   "metadata": {},
   "outputs": [
    {
     "name": "stdout",
     "output_type": "stream",
     "text": [
      "Index(['happyness', 'language', 'energy', 'memory'], dtype='object')\n"
     ]
    }
   ],
   "source": [
    "rows = sample.index\n",
    "print(rows)"
   ]
  },
  {
   "cell_type": "markdown",
   "id": "278ac22e-6fbf-4af1-bce1-b9fa4b80d87a",
   "metadata": {},
   "source": [
    "---"
   ]
  },
  {
   "cell_type": "markdown",
   "id": "6973f1e1",
   "metadata": {},
   "source": [
    "  - Use the cell below to create a Pandas `DataFrame`. Each column of the DataFrame should be the title of song you pick (it is fine to clip the title tothe first 4 words in the title). Each row of the data frame should be the name of one of your colleagues, use 3-4 names. Interview 3-4 of your colleagues and add the value in each cell representing the rating of the corresponding song that each colleague provides using a scale between 0-5, where 5 is an awesome song and 0 is a boring song."
   ]
  },
  {
   "cell_type": "code",
   "execution_count": null,
   "id": "c04c5505",
   "metadata": {},
   "outputs": [],
   "source": []
  },
  {
   "cell_type": "markdown",
   "id": "25f939e2",
   "metadata": {},
   "source": [
    "  - Use the cell below to create a Pandas `DataFrame`. Each column of the DataFrame should be the name of an band/singer of your pick (it is fine to clip the title tothe first 4 words in the title). Each row of the data frame should be the name of one of your colleagues, use 3-4 names. Interview 3-4 of your colleagues and add the value in each cell representing the rating of the corresponding song that each colleague provides using a scale between 0-5, where 5 is an awesome song and 0 is a boring song."
   ]
  },
  {
   "cell_type": "code",
   "execution_count": null,
   "id": "d62741bb",
   "metadata": {},
   "outputs": [],
   "source": []
  },
  {
   "cell_type": "markdown",
   "id": "66bc81bb-fbdb-4a15-b8dd-b2358d31c3de",
   "metadata": {},
   "source": [
    "---"
   ]
  },
  {
   "cell_type": "markdown",
   "id": "c1232dbe-0423-4d03-a382-23314a6214a7",
   "metadata": {},
   "source": [
    "### Pandas `index` object\n",
    "\n",
    "Let's briefly discuss the `index` object in pandas. \n",
    "\n",
    "An `Index` is the pandas object that identifies the rows in `Series` and `DataFrames`. You can think of it as a set of \"handles\" that that let you grab one or more rows of a `Series` or `DataFrame`."
   ]
  },
  {
   "cell_type": "markdown",
   "id": "aab25dc0-43e0-46ab-87cc-b6b30dc4f045",
   "metadata": {},
   "source": [
    "Pandas `Index` objects are immutable, so once an Index is defined, the values inside the index cannot be changed.\n",
    "\n",
    "Whereas `Series` (or `DataFrame`) containers can be modified after definition, a pandas `index` cannot. Let's try this. Above we defined `ind` as a pandas `index` and set in the third position the value `3`. "
   ]
  },
  {
   "cell_type": "code",
   "execution_count": 52,
   "id": "ebbb1269-c7a7-4b6e-9765-a49cc7532cba",
   "metadata": {},
   "outputs": [
    {
     "ename": "NameError",
     "evalue": "name 'ind' is not defined",
     "output_type": "error",
     "traceback": [
      "\u001b[0;31m---------------------------------------------------------------------------\u001b[0m",
      "\u001b[0;31mNameError\u001b[0m                                 Traceback (most recent call last)",
      "Cell \u001b[0;32mIn[52], line 1\u001b[0m\n\u001b[0;32m----> 1\u001b[0m ind\n",
      "\u001b[0;31mNameError\u001b[0m: name 'ind' is not defined"
     ]
    }
   ],
   "source": [
    "ind"
   ]
  },
  {
   "cell_type": "markdown",
   "id": "2ff7b795-9ff0-40b4-ac64-adaed2756b2f",
   "metadata": {},
   "source": [
    "Let's try to change that value, evaluate the following operation in which we attempt to set the value `10` in the third position of `ind`:"
   ]
  },
  {
   "cell_type": "code",
   "execution_count": null,
   "id": "87c2854c-9b5b-45c3-bd49-9677540ed3ba",
   "metadata": {},
   "outputs": [],
   "source": [
    "ind[2] = 10"
   ]
  },
  {
   "cell_type": "markdown",
   "id": "bdf4f131-48dd-41b9-a302-27157bd60ad6",
   "metadata": {},
   "source": [
    "Pandas `Index` objects are designed to facilitate operations on the array and serve the task of keeping track of positions of data entries in the objects. \n",
    "\n",
    "They support and facilitiate operations such as joining datasets. Because of this the pandas index object follows many operations of the built in python datatype [`set`](https://docs.python.org/3/library/stdtypes.html#set-types-set-frozenset).\n",
    "\n",
    "Because of this the Index object allows many of operations also served by Python set data structure, such as unions, intersections, differences, and other combinations can be computed in a familiar way."
   ]
  },
  {
   "cell_type": "markdown",
   "id": "4af5d889-bf50-4166-96a9-0ea1edbd1b3d",
   "metadata": {},
   "source": [
    "For example, two pandas index object can be united. This means that the unique indices are combined:"
   ]
  },
  {
   "cell_type": "code",
   "execution_count": 51,
   "id": "8c063a7e-1843-46a6-84b7-7e1b6090e300",
   "metadata": {},
   "outputs": [
    {
     "data": {
      "text/plain": [
       "Int64Index([1, 2, 3, 4, 5, 6, 20], dtype='int64')"
      ]
     },
     "execution_count": 51,
     "metadata": {},
     "output_type": "execute_result"
    }
   ],
   "source": [
    "index1 = pd.Index([1, 2, 3, 4, 5])\n",
    "index2 = pd.Index([1, 3, 4, 6, 20])\n",
    "\n",
    "index1.union(index2) "
   ]
  },
  {
   "cell_type": "markdown",
   "id": "fd54a1e7-b735-4acc-a86c-9c8b736e5ff3",
   "metadata": {},
   "source": [
    "Other logical operations can be performed using pandas index objects, for example intersection (find the common elements):"
   ]
  },
  {
   "cell_type": "code",
   "execution_count": 49,
   "id": "c4952f5d-1dd2-4785-a4f9-edf8248ab808",
   "metadata": {},
   "outputs": [
    {
     "data": {
      "text/plain": [
       "Int64Index([1, 3, 4], dtype='int64')"
      ]
     },
     "execution_count": 49,
     "metadata": {},
     "output_type": "execute_result"
    }
   ],
   "source": [
    "index1.intersection(index2)  "
   ]
  },
  {
   "cell_type": "code",
   "execution_count": 50,
   "id": "c7a80187-4db2-47b1-b215-5266ef3dab35",
   "metadata": {},
   "outputs": [
    {
     "data": {
      "text/plain": [
       "1    3\n",
       "3    6\n",
       "4    2\n",
       "dtype: int64"
      ]
     },
     "execution_count": 50,
     "metadata": {},
     "output_type": "execute_result"
    }
   ],
   "source": [
    "myseries = pd.Series([1,3,4,6,2,8])\n",
    "myseries[index1.intersection(index2)]"
   ]
  },
  {
   "cell_type": "markdown",
   "id": "b3442936-42a0-43d9-b0cc-95861d377c1d",
   "metadata": {},
   "source": [
    "In sum, pandas index objects allow performing slicing, indexing operations and facilitate keeping track of, ahem, the indices."
   ]
  },
  {
   "cell_type": "markdown",
   "id": "33778e34-8cf5-4742-b440-3c638c767586",
   "metadata": {},
   "source": [
    "---"
   ]
  },
  {
   "cell_type": "markdown",
   "id": "7fd076d6-c7a4-49a2-89a6-5f07eb410f1e",
   "metadata": {},
   "source": [
    "  - Use the cell below to create two `Pandas` `Series`. The first Series should be called `PandasSeriesOne` contain titles of five songs from your favourite artist as indices and their respective duration (it is fine to only write the first four words of the title). The second Series should be called `PandasSeriesTwo` and contain the songs of your colleague sitting to your right (or left if no one sites to your right) favourite artist as indices and their correspdoning duration as value. "
   ]
  },
  {
   "cell_type": "code",
   "execution_count": null,
   "id": "1a993a03-5645-4444-93ca-9b1a2ba60e2d",
   "metadata": {},
   "outputs": [],
   "source": []
  },
  {
   "cell_type": "markdown",
   "id": "52be40d2-b4a8-4307-950d-2ca5b051a46d",
   "metadata": {},
   "source": [
    "  - Use the cell below to find the duration of the songs you and your colleague have in common."
   ]
  },
  {
   "cell_type": "code",
   "execution_count": null,
   "id": "a66c5dbb-dbd3-4db0-ade4-c8d15cfa4a0d",
   "metadata": {},
   "outputs": [],
   "source": []
  },
  {
   "cell_type": "markdown",
   "id": "de1f45d0-a3db-4801-a5e8-fb712d856486",
   "metadata": {},
   "source": [
    "### Summary\n",
    "\n",
    "We have learned about the library `pandas` and the three fundamental objects of the library:\n",
    "\n",
    " - Series\n",
    " - DataFrames\n",
    " - Index\n",
    " \n",
    "The first two are the objects that hold our data. The `DataFrame` is a 2-dimensional object composed of one-dimensional `Series` objects. The `Series` objects in a DataFrame are \"aligned\", meaning that all the `Series` (columns) are indexed by the same `Index` object. \n",
    "\n",
    "In \"tidy data\" terms, each column of a `DataFrame` should correspond to a variable, and each row should correspond to an \"observation\". So, for example, we might have 4 measurements (e.g. height, weight, BME, blood pressure) on a number of patients from a health clinic. In this case, we would make each patient be an \"observation\" and each column would contain a single variable, the kind of measurement. The pandas `DataFrame` object would easily allow us to compute, for example, the mean and stadard deviation of each measurement."
   ]
  },
  {
   "cell_type": "markdown",
   "id": "0d93dd17-1a5a-45ff-852c-fcab03774c2e",
   "metadata": {},
   "source": [
    "---"
   ]
  },
  {
   "cell_type": "markdown",
   "id": "c5a7a217-3ed3-44c7-aa60-73dd40ce4e21",
   "metadata": {},
   "source": [
    "To practice with pandas `Series` and `DataFrames`, build a new dataset in which\n",
    "\n",
    "* each row is a city (pick your 4 favorite cities, or 2 favorites and 2 least favorites)\n",
    "* there are columns for\n",
    "    - average high, summer\n",
    "    - average low, summer\n",
    "    - average high, winter\n",
    "    - average low, winter"
   ]
  },
  {
   "cell_type": "markdown",
   "id": "841487ab-bf96-4c2a-afa6-1583efbb76d5",
   "metadata": {},
   "source": [
    "---"
   ]
  },
  {
   "cell_type": "code",
   "execution_count": null,
   "id": "aeb270b0-55ac-4667-a9d9-a0ddc7c78165",
   "metadata": {},
   "outputs": [],
   "source": []
  }
 ],
 "metadata": {
  "kernelspec": {
   "display_name": "Python 3 (ipykernel)",
   "language": "python",
   "name": "python3"
  },
  "language_info": {
   "codemirror_mode": {
    "name": "ipython",
    "version": 3
   },
   "file_extension": ".py",
   "mimetype": "text/x-python",
   "name": "python",
   "nbconvert_exporter": "python",
   "pygments_lexer": "ipython3",
   "version": "3.11.4"
  }
 },
 "nbformat": 4,
 "nbformat_minor": 5
}
