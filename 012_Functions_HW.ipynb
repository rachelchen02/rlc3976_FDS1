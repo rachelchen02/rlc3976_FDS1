{
 "cells": [
  {
   "cell_type": "markdown",
   "id": "6c141e24",
   "metadata": {},
   "source": [
    "1. Function Design for Unit Conversions"
   ]
  },
  {
   "cell_type": "code",
   "execution_count": 5,
   "id": "39284ce4",
   "metadata": {},
   "outputs": [],
   "source": [
    "#Miles to Kilometers\n",
    "def miles_to_km(miles):\n",
    "    return miles * 1.6\n",
    "#kilometers to miles\n",
    "def km_to_miles(km):\n",
    "    return km / 1.6"
   ]
  },
  {
   "cell_type": "code",
   "execution_count": 11,
   "id": "55f52867",
   "metadata": {},
   "outputs": [],
   "source": [
    "#Fahrenheit to Celsius\n",
    "def fahrenheit_to_celsius(f):\n",
    "    return (f-32)/1.8\n",
    "#Celsius to Fahrenheit\n",
    "def celsius_to_fahrenheit(c):\n",
    "    return (c*1.8)+32"
   ]
  },
  {
   "cell_type": "code",
   "execution_count": 1,
   "id": "998a26c8",
   "metadata": {},
   "outputs": [],
   "source": [
    "#Kilograms to Pounds\n",
    "def kg_to_lb(kg):\n",
    "    return kg * 2.205\n",
    "#Pounds to Kilograms\n",
    "def lb_to_kg(lb):\n",
    "    return lb / 2.205"
   ]
  },
  {
   "cell_type": "markdown",
   "id": "327f69aa",
   "metadata": {},
   "source": [
    "2. Module Creation"
   ]
  },
  {
   "cell_type": "code",
   "execution_count": 24,
   "id": "239a9ae9",
   "metadata": {},
   "outputs": [
    {
     "name": "stdout",
     "output_type": "stream",
     "text": [
      "23 miles is 36.80 kilometers,\n",
      " 100 km is 62.50 miles, \n",
      " 100 degrees Fahrenheit is 37.78 degrees Celsius, \n",
      " 35 degrees Celsius is 95.00 degrees Fahrenheit, \n",
      " 50 kilograms is 110.25 pounds, \n",
      " 100 pounds is 45.35 kilograms\n"
     ]
    }
   ],
   "source": [
    "import unit_conversions as uc\n",
    "#testing new functions\n",
    "a = uc.miles_to_km(23)\n",
    "b = uc.km_to_miles(100)\n",
    "c = uc.fahrenheit_to_celsius(100)\n",
    "d = uc.celsius_to_fahrenheit(35)\n",
    "e = uc.kg_to_lb(50)\n",
    "f = uc.lb_to_kg(100)\n",
    "\n",
    "print(f\"23 miles is {a:.2f} kilometers,\\n\",\n",
    "      f\"100 km is {b:.2f} miles, \\n\",\n",
    "      f\"100 degrees Fahrenheit is {c:.2f} degrees Celsius, \\n\",\n",
    "      f\"35 degrees Celsius is {d:.2f} degrees Fahrenheit, \\n\",\n",
    "      f\"50 kilograms is {e:.2f} pounds, \\n\",\n",
    "      f\"100 pounds is {f:.2f} kilograms\")"
   ]
  },
  {
   "cell_type": "markdown",
   "id": "72a7688a",
   "metadata": {},
   "source": [
    "3. Namespace"
   ]
  },
  {
   "cell_type": "code",
   "execution_count": 10,
   "id": "b2d7d45d",
   "metadata": {},
   "outputs": [
    {
     "data": {
      "text/plain": [
       "4"
      ]
     },
     "execution_count": 10,
     "metadata": {},
     "output_type": "execute_result"
    }
   ],
   "source": [
    "mylist = {32, 5, 4, 20}\n",
    "len(mylist)"
   ]
  },
  {
   "cell_type": "code",
   "execution_count": 12,
   "id": "e71d487f",
   "metadata": {},
   "outputs": [
    {
     "name": "stdout",
     "output_type": "stream",
     "text": [
      "42\n"
     ]
    }
   ],
   "source": [
    "import mylen\n",
    "print(mylen.len(5))"
   ]
  },
  {
   "cell_type": "code",
   "execution_count": 14,
   "id": "49c345c0",
   "metadata": {},
   "outputs": [
    {
     "data": {
      "text/plain": [
       "42"
      ]
     },
     "execution_count": 14,
     "metadata": {},
     "output_type": "execute_result"
    }
   ],
   "source": [
    "from mylen import len\n",
    "len(mylist)"
   ]
  },
  {
   "cell_type": "markdown",
   "id": "9b556351",
   "metadata": {},
   "source": [
    "The output of the first len(mylist) cell is 4 because that's the original function in Python. The output of the last len(mylist) cell is 42 because that's the function that was imported from mylen. It tells you that the imported namespace takes up precedence over the built-in Python functions."
   ]
  }
 ],
 "metadata": {
  "kernelspec": {
   "display_name": "Python 3 (ipykernel)",
   "language": "python",
   "name": "python3"
  },
  "language_info": {
   "codemirror_mode": {
    "name": "ipython",
    "version": 3
   },
   "file_extension": ".py",
   "mimetype": "text/x-python",
   "name": "python",
   "nbconvert_exporter": "python",
   "pygments_lexer": "ipython3",
   "version": "3.11.4"
  }
 },
 "nbformat": 4,
 "nbformat_minor": 5
}
