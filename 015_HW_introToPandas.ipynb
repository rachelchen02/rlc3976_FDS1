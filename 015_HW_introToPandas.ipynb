{
 "cells": [
  {
   "cell_type": "markdown",
   "id": "ccb6e89f",
   "metadata": {},
   "source": [
    "Series Exercises"
   ]
  },
  {
   "cell_type": "code",
   "execution_count": 2,
   "id": "8b75c7b6",
   "metadata": {},
   "outputs": [],
   "source": [
    "import pandas as pd"
   ]
  },
  {
   "cell_type": "code",
   "execution_count": 7,
   "id": "ab537623",
   "metadata": {},
   "outputs": [
    {
     "name": "stdout",
     "output_type": "stream",
     "text": [
      "a     apple\n",
      "b    banana\n",
      "c    cherry\n",
      "d      date\n",
      "dtype: object\n",
      "Index(['a', 'b', 'c', 'd'], dtype='object')\n"
     ]
    }
   ],
   "source": [
    "#1. Create a Series\n",
    "fruits = pd.Series(['apple', 'banana', 'cherry', 'date'],\n",
    "                   index=['a','b','c','d'])\n",
    "print(fruits)\n",
    "print(fruits.index)"
   ]
  },
  {
   "cell_type": "code",
   "execution_count": 12,
   "id": "76e41eda",
   "metadata": {},
   "outputs": [
    {
     "data": {
      "text/plain": [
       "'banana'"
      ]
     },
     "execution_count": 12,
     "metadata": {},
     "output_type": "execute_result"
    }
   ],
   "source": [
    "#2. Accessing Elements: second element\n",
    "fruits[1]"
   ]
  },
  {
   "cell_type": "code",
   "execution_count": 25,
   "id": "8d9ee431",
   "metadata": {},
   "outputs": [
    {
     "name": "stdout",
     "output_type": "stream",
     "text": [
      "0    11\n",
      "1    14\n",
      "2    19\n",
      "3    26\n",
      "4    35\n",
      "dtype: int64\n"
     ]
    }
   ],
   "source": [
    "#Series Operations: series with squares of 1-5\n",
    "squares = pd.Series([1**2, 2**2, 3**2, 4**2, 5**2])\n",
    "#Adding 10 to each item\n",
    "squares += 10\n",
    "print(squares)"
   ]
  },
  {
   "cell_type": "markdown",
   "id": "966edfa3",
   "metadata": {},
   "source": [
    "DataFrame Exercises"
   ]
  },
  {
   "cell_type": "code",
   "execution_count": 70,
   "id": "be3a3c10",
   "metadata": {},
   "outputs": [
    {
     "data": {
      "text/plain": [
       "0       Amelia\n",
       "1        Steve\n",
       "2    Christine\n",
       "Name: Name, dtype: object"
      ]
     },
     "execution_count": 70,
     "metadata": {},
     "output_type": "execute_result"
    }
   ],
   "source": [
    "#1. Create a DataFrame\n",
    "students_list = [\n",
    "    ['Amelia', 12, 7],\n",
    "    ['Steve', 18, 12],\n",
    "    ['Christine', 9, 4]\n",
    "]\n",
    "students = pd.DataFrame(students_list, columns=['Name','Age','Grade'])\n",
    "#2. Accessing Data: printing name column\n",
    "students['Name']"
   ]
  },
  {
   "cell_type": "code",
   "execution_count": 71,
   "id": "8d436771",
   "metadata": {},
   "outputs": [
    {
     "data": {
      "text/html": [
       "<div>\n",
       "<style scoped>\n",
       "    .dataframe tbody tr th:only-of-type {\n",
       "        vertical-align: middle;\n",
       "    }\n",
       "\n",
       "    .dataframe tbody tr th {\n",
       "        vertical-align: top;\n",
       "    }\n",
       "\n",
       "    .dataframe thead th {\n",
       "        text-align: right;\n",
       "    }\n",
       "</style>\n",
       "<table border=\"1\" class=\"dataframe\">\n",
       "  <thead>\n",
       "    <tr style=\"text-align: right;\">\n",
       "      <th></th>\n",
       "      <th>Name</th>\n",
       "      <th>Age</th>\n",
       "      <th>Grade</th>\n",
       "      <th>Graduated</th>\n",
       "    </tr>\n",
       "  </thead>\n",
       "  <tbody>\n",
       "    <tr>\n",
       "      <th>0</th>\n",
       "      <td>Amelia</td>\n",
       "      <td>12</td>\n",
       "      <td>7</td>\n",
       "      <td>False</td>\n",
       "    </tr>\n",
       "    <tr>\n",
       "      <th>1</th>\n",
       "      <td>Steve</td>\n",
       "      <td>18</td>\n",
       "      <td>12</td>\n",
       "      <td>False</td>\n",
       "    </tr>\n",
       "    <tr>\n",
       "      <th>2</th>\n",
       "      <td>Christine</td>\n",
       "      <td>9</td>\n",
       "      <td>4</td>\n",
       "      <td>False</td>\n",
       "    </tr>\n",
       "  </tbody>\n",
       "</table>\n",
       "</div>"
      ],
      "text/plain": [
       "        Name  Age  Grade  Graduated\n",
       "0     Amelia   12      7      False\n",
       "1      Steve   18     12      False\n",
       "2  Christine    9      4      False"
      ]
     },
     "execution_count": 71,
     "metadata": {},
     "output_type": "execute_result"
    }
   ],
   "source": [
    "#3. DataFrame Operations: adding column for grad status\n",
    "graduated = []\n",
    "for i in range(len(students_list)):\n",
    "    if students['Grade'][i] > 12:\n",
    "        graduated.append(True)\n",
    "    else:\n",
    "        graduated.append(False)\n",
    "students['Graduated'] = graduated\n",
    "students"
   ]
  },
  {
   "cell_type": "code",
   "execution_count": 72,
   "id": "bd28222e",
   "metadata": {},
   "outputs": [
    {
     "data": {
      "text/plain": [
       "13.0"
      ]
     },
     "execution_count": 72,
     "metadata": {},
     "output_type": "execute_result"
    }
   ],
   "source": [
    "#4. Maths: average age of students\n",
    "students['Age'].mean()"
   ]
  },
  {
   "cell_type": "code",
   "execution_count": 49,
   "id": "b677fd75",
   "metadata": {},
   "outputs": [
    {
     "data": {
      "text/html": [
       "<div>\n",
       "<style scoped>\n",
       "    .dataframe tbody tr th:only-of-type {\n",
       "        vertical-align: middle;\n",
       "    }\n",
       "\n",
       "    .dataframe tbody tr th {\n",
       "        vertical-align: top;\n",
       "    }\n",
       "\n",
       "    .dataframe thead th {\n",
       "        text-align: right;\n",
       "    }\n",
       "</style>\n",
       "<table border=\"1\" class=\"dataframe\">\n",
       "  <thead>\n",
       "    <tr style=\"text-align: right;\">\n",
       "      <th></th>\n",
       "      <th>Name</th>\n",
       "      <th>Age</th>\n",
       "      <th>Grade</th>\n",
       "      <th>Graduated</th>\n",
       "    </tr>\n",
       "  </thead>\n",
       "  <tbody>\n",
       "    <tr>\n",
       "      <th>2</th>\n",
       "      <td>Christine</td>\n",
       "      <td>9</td>\n",
       "      <td>4</td>\n",
       "      <td>False</td>\n",
       "    </tr>\n",
       "    <tr>\n",
       "      <th>0</th>\n",
       "      <td>Amelia</td>\n",
       "      <td>12</td>\n",
       "      <td>7</td>\n",
       "      <td>False</td>\n",
       "    </tr>\n",
       "    <tr>\n",
       "      <th>1</th>\n",
       "      <td>Steve</td>\n",
       "      <td>18</td>\n",
       "      <td>12</td>\n",
       "      <td>False</td>\n",
       "    </tr>\n",
       "  </tbody>\n",
       "</table>\n",
       "</div>"
      ],
      "text/plain": [
       "        Name  Age  Grade  Graduated\n",
       "2  Christine    9      4      False\n",
       "0     Amelia   12      7      False\n",
       "1      Steve   18     12      False"
      ]
     },
     "execution_count": 49,
     "metadata": {},
     "output_type": "execute_result"
    }
   ],
   "source": [
    "#5: Sorting: sort students based on age\n",
    "students.sort_values('Age')"
   ]
  },
  {
   "cell_type": "code",
   "execution_count": 68,
   "id": "722debca",
   "metadata": {},
   "outputs": [
    {
     "data": {
      "text/html": [
       "<div>\n",
       "<style scoped>\n",
       "    .dataframe tbody tr th:only-of-type {\n",
       "        vertical-align: middle;\n",
       "    }\n",
       "\n",
       "    .dataframe tbody tr th {\n",
       "        vertical-align: top;\n",
       "    }\n",
       "\n",
       "    .dataframe thead th {\n",
       "        text-align: right;\n",
       "    }\n",
       "</style>\n",
       "<table border=\"1\" class=\"dataframe\">\n",
       "  <thead>\n",
       "    <tr style=\"text-align: right;\">\n",
       "      <th></th>\n",
       "      <th>happiness</th>\n",
       "      <th>language</th>\n",
       "      <th>energy</th>\n",
       "      <th>memory</th>\n",
       "    </tr>\n",
       "  </thead>\n",
       "  <tbody>\n",
       "    <tr>\n",
       "      <th>0</th>\n",
       "      <td>10</td>\n",
       "      <td>2</td>\n",
       "      <td>5</td>\n",
       "      <td>3</td>\n",
       "    </tr>\n",
       "    <tr>\n",
       "      <th>1</th>\n",
       "      <td>15</td>\n",
       "      <td>4</td>\n",
       "      <td>9</td>\n",
       "      <td>6</td>\n",
       "    </tr>\n",
       "    <tr>\n",
       "      <th>2</th>\n",
       "      <td>18</td>\n",
       "      <td>7</td>\n",
       "      <td>12</td>\n",
       "      <td>9</td>\n",
       "    </tr>\n",
       "    <tr>\n",
       "      <th>3</th>\n",
       "      <td>13</td>\n",
       "      <td>2</td>\n",
       "      <td>7</td>\n",
       "      <td>4</td>\n",
       "    </tr>\n",
       "  </tbody>\n",
       "</table>\n",
       "</div>"
      ],
      "text/plain": [
       "   happiness  language  energy  memory\n",
       "0         10         2       5       3\n",
       "1         15         4       9       6\n",
       "2         18         7      12       9\n",
       "3         13         2       7       4"
      ]
     },
     "execution_count": 68,
     "metadata": {},
     "output_type": "execute_result"
    }
   ],
   "source": [
    "#6: Tidy Data: remaking data frame\n",
    "cog_health = [\n",
    "    [10, 2, 5, 3],\n",
    "    [15, 4, 9, 6],\n",
    "    [18, 7, 12, 9],\n",
    "    [13, 2, 7, 4]\n",
    "]\n",
    "df_cog_health = pd.DataFrame(cog_health, \n",
    "                             columns=['happiness', 'language', 'energy', 'memory'])\n",
    "df_cog_health"
   ]
  },
  {
   "cell_type": "code",
   "execution_count": 62,
   "id": "14b20792",
   "metadata": {},
   "outputs": [
    {
     "data": {
      "text/plain": [
       "7.875"
      ]
     },
     "execution_count": 62,
     "metadata": {},
     "output_type": "execute_result"
    }
   ],
   "source": [
    "#Mean of all variables\n",
    "df_cog_health.mean().mean()"
   ]
  },
  {
   "cell_type": "code",
   "execution_count": 63,
   "id": "96a1f06c",
   "metadata": {},
   "outputs": [
    {
     "data": {
      "text/plain": [
       "0.4335482004100443"
      ]
     },
     "execution_count": 63,
     "metadata": {},
     "output_type": "execute_result"
    }
   ],
   "source": [
    "#Standard deviation of all variables\n",
    "df_cog_health.std().std()"
   ]
  },
  {
   "cell_type": "code",
   "execution_count": 66,
   "id": "615e0edd",
   "metadata": {},
   "outputs": [
    {
     "data": {
      "text/plain": [
       "14.0"
      ]
     },
     "execution_count": 66,
     "metadata": {},
     "output_type": "execute_result"
    }
   ],
   "source": [
    "#Mean for the happiness variable\n",
    "df_cog_health['happiness'].mean()"
   ]
  },
  {
   "cell_type": "code",
   "execution_count": 67,
   "id": "a74fd2c2",
   "metadata": {},
   "outputs": [
    {
     "data": {
      "text/plain": [
       "1.6832508230603465"
      ]
     },
     "execution_count": 67,
     "metadata": {},
     "output_type": "execute_result"
    }
   ],
   "source": [
    "#Standard error for the happiness variable\n",
    "df_cog_health['happiness'].sem()"
   ]
  }
 ],
 "metadata": {
  "kernelspec": {
   "display_name": "Python 3 (ipykernel)",
   "language": "python",
   "name": "python3"
  },
  "language_info": {
   "codemirror_mode": {
    "name": "ipython",
    "version": 3
   },
   "file_extension": ".py",
   "mimetype": "text/x-python",
   "name": "python",
   "nbconvert_exporter": "python",
   "pygments_lexer": "ipython3",
   "version": "3.11.4"
  }
 },
 "nbformat": 4,
 "nbformat_minor": 5
}
