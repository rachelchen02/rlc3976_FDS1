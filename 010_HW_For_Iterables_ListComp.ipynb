{
 "cells": [
  {
   "cell_type": "markdown",
   "id": "5820a7aa",
   "metadata": {},
   "source": [
    "Part 1: for loops with lists and range()"
   ]
  },
  {
   "cell_type": "markdown",
   "id": "da901353",
   "metadata": {},
   "source": [
    "1. Lists:"
   ]
  },
  {
   "cell_type": "code",
   "execution_count": 2,
   "id": "739795bc",
   "metadata": {},
   "outputs": [
    {
     "name": "stdout",
     "output_type": "stream",
     "text": [
      "4\n",
      "8\n",
      "12\n",
      "16\n"
     ]
    }
   ],
   "source": [
    "#a) takes list of numbers and prints each number multiplied by 2\n",
    "nums = [2, 4, 6, 8]\n",
    "for num in nums :\n",
    "    print(num*2)"
   ]
  },
  {
   "cell_type": "code",
   "execution_count": 33,
   "id": "c93db5e0",
   "metadata": {},
   "outputs": [
    {
     "name": "stdout",
     "output_type": "stream",
     "text": [
      "grape\n",
      "kiwi\n",
      "pear\n",
      "apple\n"
     ]
    }
   ],
   "source": [
    "#b) prints elements of string in reverse order\n",
    "fruits = [\"apple\", \"pear\", \"kiwi\", \"grape\"]\n",
    "fruits_len = len(fruits)\n",
    "for i in range(fruits_len - 1, -1, -1) :\n",
    "    print(fruits[i])"
   ]
  },
  {
   "cell_type": "markdown",
   "id": "ac9436f6",
   "metadata": {},
   "source": [
    "2. Using the range() function:"
   ]
  },
  {
   "cell_type": "code",
   "execution_count": 6,
   "id": "075a4fcd",
   "metadata": {},
   "outputs": [
    {
     "name": "stdout",
     "output_type": "stream",
     "text": [
      "0\n",
      "1\n",
      "2\n",
      "3\n",
      "4\n",
      "5\n",
      "6\n",
      "7\n",
      "8\n",
      "9\n"
     ]
    }
   ],
   "source": [
    "#a) print numbers 0 through 9\n",
    "for i in range(0, 10) :\n",
    "    print(i)"
   ]
  },
  {
   "cell_type": "code",
   "execution_count": 8,
   "id": "333b5f80",
   "metadata": {},
   "outputs": [
    {
     "name": "stdout",
     "output_type": "stream",
     "text": [
      "5\n",
      "6\n",
      "7\n",
      "8\n",
      "9\n",
      "10\n",
      "11\n",
      "12\n",
      "13\n",
      "14\n",
      "15\n"
     ]
    }
   ],
   "source": [
    "#b) print numbers from 5 to 15\n",
    "for i in range(5, 16) :\n",
    "    print(i)"
   ]
  },
  {
   "cell_type": "code",
   "execution_count": 10,
   "id": "e4db1a97",
   "metadata": {},
   "outputs": [
    {
     "name": "stdout",
     "output_type": "stream",
     "text": [
      "0\n",
      "2\n",
      "4\n",
      "6\n",
      "8\n",
      "10\n",
      "12\n",
      "14\n",
      "16\n",
      "18\n"
     ]
    }
   ],
   "source": [
    "#c) first 10 even numbers\n",
    "for i in range(0, 20, 2) :\n",
    "    print(i)"
   ]
  },
  {
   "cell_type": "markdown",
   "id": "447809b9",
   "metadata": {},
   "source": [
    "Part 2: Dictionaries and Loops"
   ]
  },
  {
   "cell_type": "code",
   "execution_count": 15,
   "id": "e7ae844f",
   "metadata": {},
   "outputs": [
    {
     "name": "stdout",
     "output_type": "stream",
     "text": [
      "Alex's favorite color is Blue.\n",
      "Jordan's favorite color is Green.\n",
      "Taylor's favorite color is Red.\n"
     ]
    }
   ],
   "source": [
    "#a) print student's name and favorite color\n",
    "students = {\"Alex\" : \"Blue\", \"Jordan\" : \"Green\", \"Taylor\" : \"Red\"}\n",
    "for student in students :\n",
    "    print(student,\"'s favorite color is \",students[student],\".\", sep=\"\")"
   ]
  },
  {
   "cell_type": "code",
   "execution_count": 32,
   "id": "1077e42e",
   "metadata": {},
   "outputs": [
    {
     "name": "stdout",
     "output_type": "stream",
     "text": [
      "apple now has 10.\n",
      "banana now has 6.\n",
      "cherries now has 20.\n"
     ]
    }
   ],
   "source": [
    "#doubles quantity of product and prints updated quantities\n",
    "fruit_vals = {\"apple\": 5, \"banana\": 3, \"cherries\": 10}\n",
    "for fruit_val in fruit_vals :\n",
    "    fruit_vals[fruit_val] = fruit_vals[fruit_val]*2\n",
    "    print(fruit_val, \" now has \", fruit_vals[fruit_val], \".\", sep=\"\")"
   ]
  },
  {
   "cell_type": "markdown",
   "id": "f7b2bf17",
   "metadata": {},
   "source": [
    "Part 3: Storing Results of a For Loop in a New List and List Comprehensions"
   ]
  },
  {
   "cell_type": "markdown",
   "id": "221b8bc3",
   "metadata": {},
   "source": [
    "1. not using list comprehension"
   ]
  },
  {
   "cell_type": "code",
   "execution_count": 35,
   "id": "a6596e66",
   "metadata": {},
   "outputs": [
    {
     "name": "stdout",
     "output_type": "stream",
     "text": [
      "[2, 6, 10, 14]\n"
     ]
    }
   ],
   "source": [
    "#a) New list with each number multiplied by 2\n",
    "num_list = [1, 3, 5, 7]\n",
    "new_list = []\n",
    "for num in num_list :\n",
    "    new_list.append(num*2)\n",
    "print(new_list)"
   ]
  },
  {
   "cell_type": "code",
   "execution_count": 37,
   "id": "3a027105",
   "metadata": {},
   "outputs": [
    {
     "name": "stdout",
     "output_type": "stream",
     "text": [
      "['A', 'B', 'C', 'D']\n"
     ]
    }
   ],
   "source": [
    "#b) New list with first letter of each word\n",
    "str_list = [\"Apple\", \"Banana\", \"Cherry\", \"Date\"]\n",
    "first_letters = []\n",
    "for str in str_list :\n",
    "    first_letters.append(str[0])\n",
    "print(first_letters)"
   ]
  },
  {
   "cell_type": "markdown",
   "id": "404b144b",
   "metadata": {},
   "source": [
    "2. Using List Comprehension"
   ]
  },
  {
   "cell_type": "code",
   "execution_count": 58,
   "id": "dc07dc13",
   "metadata": {},
   "outputs": [
    {
     "name": "stdout",
     "output_type": "stream",
     "text": [
      "[1.0, 1.4142135623730951, 1.7320508075688772, 2.0, 2.23606797749979, 2.449489742783178, 2.6457513110645907, 2.8284271247461903, 3.0, 3.1622776601683795]\n"
     ]
    }
   ],
   "source": [
    "#c) compute and save square roots\n",
    "nums = [1, 2, 3, 4, 5, 6, 7, 8, 9, 10]\n",
    "squared_nums = [x**0.5 for x in nums]\n",
    "print(squared_nums)"
   ]
  },
  {
   "cell_type": "code",
   "execution_count": 17,
   "id": "1073cdd1",
   "metadata": {},
   "outputs": [
    {
     "name": "stdout",
     "output_type": "stream",
     "text": [
      "['e', 'r', 'i', 'e']\n"
     ]
    }
   ],
   "source": [
    "#d) list with last letter of each word\n",
    "fruits = [\"apple\", \"pear\", \"kiwi\", \"grape\"]\n",
    "last_fruits = [fruits[i][len(fruits[i])-1] for i in range(len(fruits))]\n",
    "print(last_fruits)"
   ]
  },
  {
   "cell_type": "markdown",
   "id": "c70dbb57",
   "metadata": {},
   "source": [
    "Part 4: nested loops"
   ]
  },
  {
   "cell_type": "code",
   "execution_count": 18,
   "id": "5c3e7526",
   "metadata": {},
   "outputs": [
    {
     "name": "stdout",
     "output_type": "stream",
     "text": [
      "[1, 2, 3, 4, 5, 6, 7, 8, 9, 10, 11, 12, 13, 14, 15, 16, 17, 18, 19, 20, 21, 22, 23, 42]\n"
     ]
    }
   ],
   "source": [
    "#a) flatten the list\n",
    "deep_list = [[[1, 2, 3, 4], [5, 6, 7, 8]],\n",
    "            [[9, 10, 11, 12], [13, 14, 15, 16]],\n",
    "            [[17, 18, 19, 20], [21, 22, 23, 42]]]\n",
    "flat_list = []\n",
    "for i in range(3) :\n",
    "    for j in range(2) :\n",
    "        for k in range(4) :\n",
    "            find_num = deep_list[i][j][k]\n",
    "            flat_list.append(find_num)\n",
    "        \n",
    "print (flat_list)"
   ]
  },
  {
   "cell_type": "code",
   "execution_count": 25,
   "id": "51f4caa9",
   "metadata": {},
   "outputs": [
    {
     "name": "stdout",
     "output_type": "stream",
     "text": [
      "['able', 'was', 'I', 'ere', 'I', 'saw', 'elba']\n"
     ]
    }
   ],
   "source": [
    "#reverses order of strings and order of letters\n",
    "myStrLst = [\"able\", \"was\", \"I\", \"ere\", \"I\", \"saw\", \"elba\"]\n",
    "result = []\n",
    "for i in range(len(myStrLst) - 1, -1, -1) :\n",
    "    word = \"\"\n",
    "    for j in range(len(myStrLst[i]) - 1, -1, -1):\n",
    "        word = word + (myStrLst[i][j])\n",
    "    \n",
    "    result.append(word)\n",
    "\n",
    "print(result)"
   ]
  }
 ],
 "metadata": {
  "kernelspec": {
   "display_name": "Python 3 (ipykernel)",
   "language": "python",
   "name": "python3"
  },
  "language_info": {
   "codemirror_mode": {
    "name": "ipython",
    "version": 3
   },
   "file_extension": ".py",
   "mimetype": "text/x-python",
   "name": "python",
   "nbconvert_exporter": "python",
   "pygments_lexer": "ipython3",
   "version": "3.11.4"
  }
 },
 "nbformat": 4,
 "nbformat_minor": 5
}
