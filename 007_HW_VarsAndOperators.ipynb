{
 "cells": [
  {
   "cell_type": "markdown",
   "id": "16ce7fcf",
   "metadata": {},
   "source": [
    "1. Variables and Assignment"
   ]
  },
  {
   "cell_type": "code",
   "execution_count": 1,
   "id": "a3c60dd7",
   "metadata": {},
   "outputs": [
    {
     "name": "stdout",
     "output_type": "stream",
     "text": [
      "Rachel\n"
     ]
    }
   ],
   "source": [
    "name = 'Rachel'\n",
    "print(name)"
   ]
  },
  {
   "cell_type": "code",
   "execution_count": 3,
   "id": "a8f9696a",
   "metadata": {},
   "outputs": [
    {
     "name": "stdout",
     "output_type": "stream",
     "text": [
      "21\n"
     ]
    }
   ],
   "source": [
    "age = 21\n",
    "print(age)"
   ]
  },
  {
   "cell_type": "code",
   "execution_count": 4,
   "id": "7ce39da2",
   "metadata": {},
   "outputs": [
    {
     "name": "stdout",
     "output_type": "stream",
     "text": [
      "21 Rachel\n"
     ]
    }
   ],
   "source": [
    "name, age = age, name\n",
    "print(name, age)"
   ]
  },
  {
   "cell_type": "markdown",
   "id": "62d9401f",
   "metadata": {},
   "source": [
    "2. Data Types"
   ]
  },
  {
   "cell_type": "code",
   "execution_count": 6,
   "id": "b21ce49b",
   "metadata": {},
   "outputs": [
    {
     "name": "stdout",
     "output_type": "stream",
     "text": [
      "<class 'int'> <class 'float'> <class 'str'> <class 'list'> <class 'tuple'> <class 'set'> <class 'bool'>\n"
     ]
    }
   ],
   "source": [
    "print(type(5),\n",
    "      type(5.0), \n",
    "      type(\"5\"), \n",
    "      type([5]), \n",
    "      type((5, )),\n",
    "      type({5}), \n",
    "      type(True))"
   ]
  },
  {
   "cell_type": "code",
   "execution_count": 9,
   "id": "b64c7ddd",
   "metadata": {},
   "outputs": [
    {
     "name": "stdout",
     "output_type": "stream",
     "text": [
      "True\n"
     ]
    }
   ],
   "source": [
    "is_student = True\n",
    "print(is_student)"
   ]
  },
  {
   "cell_type": "markdown",
   "id": "90206871",
   "metadata": {},
   "source": [
    "3. Basic Operators"
   ]
  },
  {
   "cell_type": "code",
   "execution_count": 8,
   "id": "04637a43",
   "metadata": {},
   "outputs": [
    {
     "name": "stdout",
     "output_type": "stream",
     "text": [
      "38 -16 56 25.0\n"
     ]
    }
   ],
   "source": [
    "print(15+23,\n",
    "     34-50,\n",
    "     8*7,\n",
    "     100/4)"
   ]
  },
  {
   "cell_type": "code",
   "execution_count": 10,
   "id": "1c8e8b9f",
   "metadata": {},
   "outputs": [
    {
     "name": "stdout",
     "output_type": "stream",
     "text": [
      "0 100000\n"
     ]
    }
   ],
   "source": [
    "a = 10\n",
    "b = 5\n",
    "print(a%b, a**b)"
   ]
  },
  {
   "cell_type": "markdown",
   "id": "f4041f2f",
   "metadata": {},
   "source": [
    "4. Type Conversions"
   ]
  },
  {
   "cell_type": "code",
   "execution_count": 11,
   "id": "4b7adac6",
   "metadata": {},
   "outputs": [
    {
     "name": "stdout",
     "output_type": "stream",
     "text": [
      "123 456 78\n"
     ]
    }
   ],
   "source": [
    "print(int(\"123\"), str(456), int(78.9))"
   ]
  },
  {
   "cell_type": "markdown",
   "id": "d17a71a5",
   "metadata": {},
   "source": [
    "5. String Manipulation with Operators"
   ]
  },
  {
   "cell_type": "code",
   "execution_count": 14,
   "id": "dce47f6f",
   "metadata": {},
   "outputs": [
    {
     "name": "stdout",
     "output_type": "stream",
     "text": [
      "PythonRocks\n"
     ]
    }
   ],
   "source": [
    "print('Python'+'Rocks')"
   ]
  },
  {
   "cell_type": "code",
   "execution_count": 15,
   "id": "c74f9e77",
   "metadata": {},
   "outputs": [
    {
     "name": "stdout",
     "output_type": "stream",
     "text": [
      "HelloHelloHello\n"
     ]
    }
   ],
   "source": [
    "print('Hello'*3)"
   ]
  },
  {
   "cell_type": "markdown",
   "id": "10cd8592",
   "metadata": {},
   "source": [
    "6. Bonus Question"
   ]
  },
  {
   "cell_type": "code",
   "execution_count": 18,
   "id": "98593888",
   "metadata": {},
   "outputs": [
    {
     "name": "stdout",
     "output_type": "stream",
     "text": [
      "10 15 5\n"
     ]
    }
   ],
   "source": [
    "x = 5\n",
    "y = 10\n",
    "z = 15\n",
    "y = y+x\n",
    "z = z-(x+x)\n",
    "x = z+z\n",
    "print(x, y, z)"
   ]
  }
 ],
 "metadata": {
  "kernelspec": {
   "display_name": "Python 3 (ipykernel)",
   "language": "python",
   "name": "python3"
  },
  "language_info": {
   "codemirror_mode": {
    "name": "ipython",
    "version": 3
   },
   "file_extension": ".py",
   "mimetype": "text/x-python",
   "name": "python",
   "nbconvert_exporter": "python",
   "pygments_lexer": "ipython3",
   "version": "3.11.4"
  }
 },
 "nbformat": 4,
 "nbformat_minor": 5
}
