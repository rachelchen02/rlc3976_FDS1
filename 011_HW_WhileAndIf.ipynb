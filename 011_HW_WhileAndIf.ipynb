{
 "cells": [
  {
   "cell_type": "markdown",
   "id": "f5140b3e",
   "metadata": {},
   "source": [
    "0. Logic:"
   ]
  },
  {
   "cell_type": "code",
   "execution_count": 8,
   "id": "d4102536",
   "metadata": {},
   "outputs": [
    {
     "name": "stdout",
     "output_type": "stream",
     "text": [
      "o is in Hello World!\n"
     ]
    }
   ],
   "source": [
    "#a) determine whether letters are in string\n",
    "test_strs = [\"y\", \"o\"]\n",
    "comp_str = \"Hello World!\"\n",
    "for letter in test_strs :\n",
    "    if letter in comp_str:\n",
    "        print (i, \"is in\", comp_str)"
   ]
  },
  {
   "cell_type": "code",
   "execution_count": 15,
   "id": "9aaa93e9",
   "metadata": {},
   "outputs": [
    {
     "name": "stdout",
     "output_type": "stream",
     "text": [
      "True\n"
     ]
    }
   ],
   "source": [
    "#b) xor\n",
    "a = True\n",
    "b = False\n",
    "if a == True or b == True:\n",
    "    if a == b :\n",
    "        print(False)\n",
    "    else : \n",
    "        print(True)\n",
    "else :\n",
    "    print(False)"
   ]
  },
  {
   "cell_type": "markdown",
   "id": "46feff99",
   "metadata": {},
   "source": [
    "1. Age Category:"
   ]
  },
  {
   "cell_type": "code",
   "execution_count": 1,
   "id": "1a8a20cf",
   "metadata": {},
   "outputs": [
    {
     "name": "stdout",
     "output_type": "stream",
     "text": [
      "What is your age? 34\n",
      "You are an adult.\n"
     ]
    }
   ],
   "source": [
    "#a + b) asks user to input age and classifies into categories\n",
    "age = int(input(\"What is your age? \"))\n",
    "if 0 <= age <= 2 :\n",
    "    print(\"You are an infant.\")\n",
    "elif 3 <= age <= 12 :\n",
    "    print(\"You are a child.\")\n",
    "elif 13 <= age <= 19 :\n",
    "    print(\"You are a teenager.\")\n",
    "elif 20 <= age <= 64 :\n",
    "    print(\"You are an adult.\")\n",
    "else :\n",
    "    print(\"You are a senior.\")"
   ]
  },
  {
   "cell_type": "markdown",
   "id": "2bdd644a",
   "metadata": {},
   "source": [
    "2. Number Classifier:"
   ]
  },
  {
   "cell_type": "code",
   "execution_count": 2,
   "id": "4931cde4",
   "metadata": {},
   "outputs": [
    {
     "name": "stdout",
     "output_type": "stream",
     "text": [
      "Input a number: 42\n",
      "Your number, 42, is positive and even.\n"
     ]
    }
   ],
   "source": [
    "#a + b) check if number is positive, negative, or zero + even or odd\n",
    "num = int(input(\"Input a number: \"))\n",
    "\n",
    "#positive or negative\n",
    "if num > 0 :\n",
    "    pos_neg = \"positive\"\n",
    "elif num < 0 :\n",
    "    pos_neg = \"negative\"\n",
    "else :\n",
    "    pos_neg = \"zero\"\n",
    "\n",
    "#even or odd    \n",
    "if num % 2 == 0 :\n",
    "    even_odd = \"even\"\n",
    "else : \n",
    "    even_odd = \"odd\"\n",
    "\n",
    "print(\"Your number, \", num, \", is \", pos_neg, \" and \", even_odd, \n",
    "      \".\", sep =\"\")"
   ]
  },
  {
   "cell_type": "markdown",
   "id": "8c2b60e4",
   "metadata": {},
   "source": [
    "3. Simple Calculator:"
   ]
  },
  {
   "cell_type": "code",
   "execution_count": 4,
   "id": "89bca38c",
   "metadata": {},
   "outputs": [
    {
     "name": "stdout",
     "output_type": "stream",
     "text": [
      "Input two numbers: 3 5\n",
      "Select an operation: hi\n",
      "Error. Try again.\n",
      "Select an operation: 23 59\n",
      "Select an operation: division\n",
      "0.6\n"
     ]
    }
   ],
   "source": [
    "#user inputs two numbers + selects operation, and result is returned\n",
    "num1, num2 = input(\"Input two numbers: \").split()\n",
    "num1 = int(num1)\n",
    "num2 = int(num2)\n",
    "while (True):\n",
    "    operation = input(\"Select an operation: \")\n",
    "    if operation == \"addition\" or operation == \"Addition\" :\n",
    "        result = num1 + num2\n",
    "        print(result)\n",
    "        break\n",
    "    elif operation == \"subtraction\" or operation == \"Subtraction\" :\n",
    "        print(operation)\n",
    "        result = num1 - num2\n",
    "        print(result)\n",
    "        break\n",
    "    elif operation == \"multiplication\" or operation == \"Multiplication\" :\n",
    "        result = num1*num2\n",
    "        print(result)\n",
    "        break\n",
    "    elif operation == \"division\" or operation == \"Division\" :\n",
    "        result = num1 / num2\n",
    "        print(result)\n",
    "        break\n",
    "    else : \n",
    "        print(\"Error. Try again.\")\n",
    "        input(\"Select an operation: \")"
   ]
  },
  {
   "cell_type": "markdown",
   "id": "19e530fa",
   "metadata": {},
   "source": [
    "4. Guessing Game"
   ]
  },
  {
   "cell_type": "code",
   "execution_count": 3,
   "id": "6fb09217",
   "metadata": {},
   "outputs": [
    {
     "name": "stdout",
     "output_type": "stream",
     "text": [
      "Guess a number between 1 and 10: 3\n",
      "Too high!\n",
      "\n",
      "Guess a number between 1 and 10: \n",
      "4\n",
      "Too high!\n",
      "\n",
      "Guess a number between 1 and 10: \n",
      "6\n",
      "Too high!\n",
      "\n",
      "Guess a number between 1 and 10: \n",
      "2\n",
      "That's the answer!\n"
     ]
    }
   ],
   "source": [
    "###### a) random answer between 1 and 10\n",
    "import random\n",
    "answer = random.randint(1, 10)\n",
    "guess = int(input(\"Guess a number between 1 and 10: \"))\n",
    "n = 1\n",
    "max_guess = 5\n",
    "while n <= max_guess :\n",
    "    if guess == answer :\n",
    "        print(\"That's the answer!\")\n",
    "        break\n",
    "    elif n == max_guess :\n",
    "        print(\"Wrong! The answer was\", answer)\n",
    "        break\n",
    "    elif guess > answer :\n",
    "        print(\"Too high!\\n\")\n",
    "        n += 1\n",
    "        guess = int(input(\"Guess a number between 1 and 10: \\n\"))\n",
    "    elif guess < answer :\n",
    "        print(\"Too low!\\n\")\n",
    "        n += 1\n",
    "        guess = int(input(\"Guess a number between 1 and 10: \\n\"))"
   ]
  },
  {
   "cell_type": "markdown",
   "id": "f4bd637c",
   "metadata": {},
   "source": [
    "5. Counter Contrast"
   ]
  },
  {
   "cell_type": "code",
   "execution_count": 5,
   "id": "90dd1853",
   "metadata": {},
   "outputs": [
    {
     "name": "stdout",
     "output_type": "stream",
     "text": [
      "Input a positive integer: -2\n",
      "This is not a positive integer.\n",
      "Try again.\n",
      "Input a positive integer: 4\n",
      "1\n",
      "2\n",
      "3\n",
      "4\n"
     ]
    }
   ],
   "source": [
    "#a) counts numbers from 1 up to n with for loop\n",
    "n = int(input(\"Input a positive integer: \"))\n",
    "while n <= 0 :\n",
    "    print(\"This is not a positive integer.\")\n",
    "    n = int(input(\"Try again.\\nInput a positive integer: \"))\n",
    "for i in range(1, n + 1) :\n",
    "    print(i)"
   ]
  },
  {
   "cell_type": "code",
   "execution_count": 2,
   "id": "0179afee",
   "metadata": {},
   "outputs": [
    {
     "name": "stdout",
     "output_type": "stream",
     "text": [
      "Input a positive integer: -2\n",
      "This is not a positive integer.\n",
      "Try again.\n",
      "Input a positive integer: 4\n",
      "1\n",
      "2\n",
      "3\n",
      "4\n"
     ]
    }
   ],
   "source": [
    "#b) while loop\n",
    "n = int(input(\"Input a positive integer: \"))\n",
    "while n <= 0 :\n",
    "    print(\"This is not a positive integer.\")\n",
    "    n = int(input(\"Try again.\\nInput a positive integer: \"))\n",
    "count = 1\n",
    "while count <= n :\n",
    "    print(count)\n",
    "    count += 1"
   ]
  },
  {
   "cell_type": "markdown",
   "id": "63d1ac6a",
   "metadata": {},
   "source": [
    "I prefer using a for loop because I don't have to create a counter variable."
   ]
  },
  {
   "cell_type": "markdown",
   "id": "4219ef37",
   "metadata": {},
   "source": [
    "6. Multiplication Table"
   ]
  },
  {
   "cell_type": "code",
   "execution_count": 4,
   "id": "b5484786",
   "metadata": {},
   "outputs": [
    {
     "name": "stdout",
     "output_type": "stream",
     "text": [
      "Input a number: 3\n",
      "3 x 1 = 3\n",
      "3 x 2 = 6\n",
      "3 x 3 = 9\n",
      "3 x 4 = 12\n",
      "3 x 5 = 15\n",
      "3 x 6 = 18\n",
      "3 x 7 = 21\n",
      "3 x 8 = 24\n",
      "3 x 9 = 27\n",
      "3 x 10 = 30\n"
     ]
    }
   ],
   "source": [
    "#mult. table up to 10 with for loop\n",
    "n = int(input(\"Input a number: \"))\n",
    "max_value = 10\n",
    "for i in range(1, max_value + 1) :\n",
    "    result = n*i\n",
    "    print(n, \"x\", i, \"=\", result)"
   ]
  },
  {
   "cell_type": "code",
   "execution_count": 3,
   "id": "b7423853",
   "metadata": {},
   "outputs": [
    {
     "name": "stdout",
     "output_type": "stream",
     "text": [
      "Input a number: 2\n",
      "2 x 1 = 2\n",
      "2 x 2 = 4\n",
      "2 x 3 = 6\n",
      "2 x 4 = 8\n",
      "2 x 5 = 10\n",
      "2 x 6 = 12\n",
      "2 x 7 = 14\n",
      "2 x 8 = 16\n",
      "2 x 9 = 18\n",
      "2 x 10 = 20\n"
     ]
    }
   ],
   "source": [
    "#while loop\n",
    "n = int(input(\"Input a number: \"))\n",
    "count = 1\n",
    "max_val = 10\n",
    "while count <= max_val :\n",
    "    result = n * count\n",
    "    print(n, \"x\", count, \"=\", result)\n",
    "    count += 1"
   ]
  },
  {
   "cell_type": "markdown",
   "id": "2feec6ac",
   "metadata": {},
   "source": [
    "I prefer a for loop for this question because it is iterating by 1 with a designated stop of 10. "
   ]
  },
  {
   "cell_type": "markdown",
   "id": "02017056",
   "metadata": {},
   "source": [
    "For a program where a user must enter a positive number, I would use a while loop because you don't know how many times the user will enter a negative number and keep entering the loop. "
   ]
  }
 ],
 "metadata": {
  "kernelspec": {
   "display_name": "Python 3 (ipykernel)",
   "language": "python",
   "name": "python3"
  },
  "language_info": {
   "codemirror_mode": {
    "name": "ipython",
    "version": 3
   },
   "file_extension": ".py",
   "mimetype": "text/x-python",
   "name": "python",
   "nbconvert_exporter": "python",
   "pygments_lexer": "ipython3",
   "version": "3.11.4"
  }
 },
 "nbformat": 4,
 "nbformat_minor": 5
}
